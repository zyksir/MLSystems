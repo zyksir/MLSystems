{
 "cells": [
  {
   "cell_type": "markdown",
   "metadata": {},
   "source": [
    "# 10-714 Homework 2\n",
    "\n",
    "In this homework, you will be implementing a neural network library in the needle framework. Reminder: __you must save a copy in drive__."
   ]
  },
  {
   "cell_type": "code",
   "execution_count": 1,
   "metadata": {},
   "outputs": [
    {
     "name": "stdout",
     "output_type": "stream",
     "text": [
      "Collecting git+https://github.com/dlsys10714/mugrade.git\n",
      "  Cloning https://github.com/dlsys10714/mugrade.git to /private/var/folders/71/frnhgsx16xl6229tcngvbkyh0000gn/T/pip-req-build-b96w4q3u\n",
      "  Running command git clone --filter=blob:none --quiet https://github.com/dlsys10714/mugrade.git /private/var/folders/71/frnhgsx16xl6229tcngvbkyh0000gn/T/pip-req-build-b96w4q3u\n",
      "  fatal: unable to access 'https://github.com/dlsys10714/mugrade.git/': Failed to connect to github.com port 443 after 75009 ms: Couldn't connect to server\n",
      "  fatal: could not fetch 2895103fe6615e05821c37968c17a55fdb62277c from promisor remote\n",
      "  warning: Clone succeeded, but checkout failed.\n",
      "  You can inspect what was checked out with 'git status'\n",
      "  and retry with 'git restore --source=HEAD :/'\n",
      "\n",
      "  \u001b[1;31merror\u001b[0m: \u001b[1msubprocess-exited-with-error\u001b[0m\n",
      "  \n",
      "  \u001b[31m×\u001b[0m \u001b[32mgit clone --\u001b[0m\u001b[32mfilter\u001b[0m\u001b[32m=\u001b[0m\u001b[32mblob\u001b[0m\u001b[32m:none --quiet \u001b[0m\u001b[4;32mhttps://github.com/dlsys10714/mugrade.git\u001b[0m\u001b[32m \u001b[0m\u001b[32m/private/var/folders/71/frnhgsx16xl6229tcngvbkyh0000gn/T/\u001b[0m\u001b[32mpip-req-build-b96w4q3u\u001b[0m did not run successfully.\n",
      "  \u001b[31m│\u001b[0m exit code: \u001b[1;36m128\u001b[0m\n",
      "  \u001b[31m╰─>\u001b[0m See above for output.\n",
      "  \n",
      "  \u001b[1;35mnote\u001b[0m: This error originates from a subprocess, and is likely not a problem with pip.\n",
      "\u001b[1;31merror\u001b[0m: \u001b[1msubprocess-exited-with-error\u001b[0m\n",
      "\n",
      "\u001b[31m×\u001b[0m \u001b[32mgit clone --\u001b[0m\u001b[32mfilter\u001b[0m\u001b[32m=\u001b[0m\u001b[32mblob\u001b[0m\u001b[32m:none --quiet \u001b[0m\u001b[4;32mhttps://github.com/dlsys10714/mugrade.git\u001b[0m\u001b[32m \u001b[0m\u001b[32m/private/var/folders/71/frnhgsx16xl6229tcngvbkyh0000gn/T/\u001b[0m\u001b[32mpip-req-build-b96w4q3u\u001b[0m did not run successfully.\n",
      "\u001b[31m│\u001b[0m exit code: \u001b[1;36m128\u001b[0m\n",
      "\u001b[31m╰─>\u001b[0m See above for output.\n",
      "\n",
      "\u001b[1;35mnote\u001b[0m: This error originates from a subprocess, and is likely not a problem with pip.\n"
     ]
    }
   ],
   "source": [
    "# # Code to set up the assignment\n",
    "# from google.colab import drive\n",
    "# drive.mount('/content/drive')\n",
    "# %cd /content/drive/MyDrive/\n",
    "# !mkdir -p 10714\n",
    "# %cd /content/drive/MyDrive/10714\n",
    "# !git clone https://github.com/dlsys10714/hw2.git\n",
    "# %cd /content/drive/MyDrive/10714/hw2\n",
    "\n",
    "!pip3 install --upgrade --no-deps git+https://github.com/dlsys10714/mugrade.git"
   ]
  },
  {
   "cell_type": "markdown",
   "metadata": {},
   "source": [
    "## Question 0\n",
    "\n",
    "This homework builds off of Homework 1. First, in your Homework 2 directory, go to the files `autograd.py`, `ops.py` in the `python/needle` directory, and fill in the code between `### BEGIN YOUR SOLUTION` and `### END YOUR SOLUTION` with your solutions from Homework 1. \n",
    "\n",
    "**Note:** We have added functionality since HW1, specifically in the `autograd.py` file, so it is important to copy over your solutions rather than the entire previous file."
   ]
  },
  {
   "cell_type": "code",
   "execution_count": 2,
   "metadata": {},
   "outputs": [],
   "source": [
    "import sys\n",
    "sys.path.append('./python')\n",
    "sys.path.append('./apps')"
   ]
  },
  {
   "cell_type": "markdown",
   "metadata": {
    "tags": []
   },
   "source": [
    "## Question 1\n",
    "\n",
    "In this first question, you will implement a few different methods for weight initialization.  This will be done in the `python/needle/init.py` file, which contains a number of routines for initializing needle Tensors using various random and constant initializations.  Following the same methodology of the existing initializers (you will want to call e.g. `init.rand` or `init.randn` from your functions below, implement the following common initialization methods.  In all cases, the functions should return `fan_in` by `fan_out` 2D tensors (extensions to other sizes can be done via e.g., reshaping).\n",
    "\n",
    "\n",
    "### Xavier uniform\n",
    "`xavier_uniform(fan_in, fan_out, gain=1.0, **kwargs)`\n",
    "\n",
    "Fills the input Tensor with values according to the method described in [Understanding the difficulty of training deep feedforward neural networks](https://proceedings.mlr.press/v9/glorot10a/glorot10a.pdf), using a uniform distribution. The resulting Tensor will have values sampled from $\\mathcal{U}(-a, a)$ where \n",
    "\\begin{equation}\n",
    "a = \\text{gain} \\times \\sqrt{\\frac{6}{\\text{fan_in} + \\text{fan_out}}}\n",
    "\\end{equation}\n",
    "\n",
    "Pass remaining `**kwargs` parameters to the corresponding `init` random call.\n",
    "\n",
    "##### Parameters\n",
    "- `fan_in` - dimensionality of input\n",
    "- `fan_out` - dimensionality of output\n",
    "- `gain` - optional scaling factor\n",
    "___\n",
    "\n",
    "### Xavier normal\n",
    "`xavier_normal(fan_in, fan_out, gain=1.0, **kwargs)`\n",
    "\n",
    "Fills the input Tensor with values according to the method described in [Understanding the difficulty of training deep feedforward neural networks](https://proceedings.mlr.press/v9/glorot10a/glorot10a.pdf), using a normal distribution. The resulting Tensor will have values sampled from $\\mathcal{N}(0, \\text{std}^2)$ where \n",
    "\\begin{equation}\n",
    "\\text{std} = \\text{gain} \\times \\sqrt{\\frac{2}{\\text{fan_in} + \\text{fan_out}}}\n",
    "\\end{equation}\n",
    "\n",
    "##### Parameters\n",
    "- `fan_in` - dimensionality of input\n",
    "- `fan_out` - dimensionality of output\n",
    "- `gain` - optional scaling factor\n",
    "___\n",
    "\n",
    "### Kaiming uniform\n",
    "`kaiming_uniform(fan_in, fan_out, nonlinearity=\"relu\", **kwargs)`\n",
    "\n",
    "Fills the input Tensor with values according to the method described in [Delving deep into rectifiers: Surpassing human-level performance on ImageNet classification](https://arxiv.org/pdf/1502.01852.pdf), using a uniform distribution. The resulting Tensor will have values sampled from $\\mathcal{U}(-\\text{bound}, \\text{bound})$ where \n",
    "\\begin{equation}\n",
    "\\text{bound} = \\text{gain} \\times \\sqrt{\\frac{3}{\\text{fan_in}}}\n",
    "\\end{equation}\n",
    "\n",
    "Use the recommended gain value for ReLU: $\\text{gain}=\\sqrt{2}$.\n",
    "\n",
    "##### Parameters\n",
    "- `fan_in` - dimensionality of input\n",
    "- `fan_out` - dimensionality of output\n",
    "- `nonlinearity` - the non-linear function\n",
    "___\n",
    "\n",
    "### Kaiming normal\n",
    "`kaiming_normal(fan_in, fan_out, nonlinearity=\"relu\", **kwargs)`\n",
    "\n",
    "Fills the input Tensor with values according to the method described in [Delving deep into rectifiers: Surpassing human-level performance on ImageNet classification](https://arxiv.org/pdf/1502.01852.pdf), using a uniform distribution. The resulting Tensor will have values sampled from $\\mathcal{N}(0, \\text{std}^2)$ where \n",
    "\\begin{equation}\n",
    "\\text{std} = \\frac{\\text{gain}}{\\sqrt{\\text{fan_in}}}\n",
    "\\end{equation}\n",
    "\n",
    "Use the recommended gain value for ReLU: $\\text{gain}=\\sqrt{2}$.\n",
    "\n",
    "##### Parameters\n",
    "- `fan_in` - dimensionality of input\n",
    "- `fan_out` - dimensionality of output\n",
    "- `nonlinearity` - the non-linear function"
   ]
  },
  {
   "cell_type": "code",
   "execution_count": 3,
   "metadata": {},
   "outputs": [
    {
     "name": "stdout",
     "output_type": "stream",
     "text": [
      "\u001b[1m============================= test session starts ==============================\u001b[0m\n",
      "platform darwin -- Python 3.9.13, pytest-7.2.1, pluggy-1.0.0 -- /Users/yikaizhu/Anaconda3/bin/python3\n",
      "cachedir: .pytest_cache\n",
      "rootdir: /Users/yikaizhu/github/MLSystems/hw2\n",
      "plugins: anyio-3.5.0, django-4.5.2\n",
      "collected 90 items / 86 deselected / 4 selected                                \u001b[0m\u001b[1m\n",
      "\n",
      "tests/test_nn_and_optim.py::test_init_kaiming_uniform \u001b[32mPASSED\u001b[0m\u001b[32m             [ 25%]\u001b[0m\n",
      "tests/test_nn_and_optim.py::test_init_kaiming_normal \u001b[32mPASSED\u001b[0m\u001b[32m              [ 50%]\u001b[0m\n",
      "tests/test_nn_and_optim.py::test_init_xavier_uniform \u001b[32mPASSED\u001b[0m\u001b[32m              [ 75%]\u001b[0m\n",
      "tests/test_nn_and_optim.py::test_init_xavier_normal \u001b[32mPASSED\u001b[0m\u001b[32m               [100%]\u001b[0m\n",
      "\n",
      "\u001b[32m======================= \u001b[32m\u001b[1m4 passed\u001b[0m, \u001b[33m86 deselected\u001b[0m\u001b[32m in 1.16s\u001b[0m\u001b[32m =======================\u001b[0m\n"
     ]
    }
   ],
   "source": [
    "!python3 -m pytest -v -k \"test_init\""
   ]
  },
  {
   "cell_type": "code",
   "execution_count": null,
   "metadata": {},
   "outputs": [],
   "source": [
    "!python -m mugrade submit 'YOUR_GRADER_KEY_HERE' -k \"init\" -s"
   ]
  },
  {
   "cell_type": "markdown",
   "metadata": {},
   "source": [
    "## Question 2\n",
    "\n",
    "In this question, you will implement additional modules in `python/needle/nn.py`. Specifically, for the following modules described below, initialize any variables of the module in the constructor, and fill out the `forward` method. \n",
    "___\n",
    "\n",
    "### Linear\n",
    "`needle.nn.Linear(in_features, out_features, bias=True, device=None, dtype=\"float32\")`\n",
    "\n",
    "Applies a linear transformation to the incoming data: $y = xA^T + b$. The input shape is $(N, H_{in})$ where $H_{in}=\\text{in_features}$. The output shape is $(N, H_{out})$ where $H_{out}=\\text{out_features}$.\n",
    "\n",
    "Be careful to explicitly broadcast the bias term to the correct shape -- Needle does not support implicit broadcasting.\n",
    "\n",
    "Additionally note that, for all layers including this one, you should initialize the weight Tensor before the bias Tensor, and should initialize all Parameters using only functions from 'init'.\n",
    "\n",
    "##### Parameters\n",
    "- `in_features` - size of each input sample\n",
    "- `out_features` - size of each output sample\n",
    "- `bias` - If set to `False`, the layer will not learn an additive bias.\n",
    "\n",
    "##### Variables\n",
    "- `weight` - the learnable weights of shape (`in_features`, `out_features`). The values should be initialized with the Kaiming Uniform initialization with `fan_in = in_features`\n",
    "- `bias` - the learnable bias of shape (`out_features`). The values should be initialized with the Kaiming Uniform initialize with `fan_in = out_features`. **Note the different in fan_in choice, due to their relative sizes**. "
   ]
  },
  {
   "cell_type": "code",
   "execution_count": 4,
   "metadata": {},
   "outputs": [
    {
     "name": "stdout",
     "output_type": "stream",
     "text": [
      "\u001b[1m============================= test session starts ==============================\u001b[0m\n",
      "platform darwin -- Python 3.9.13, pytest-7.2.1, pluggy-1.0.0 -- /Users/yikaizhu/Anaconda3/bin/python3\n",
      "cachedir: .pytest_cache\n",
      "rootdir: /Users/yikaizhu/github/MLSystems/hw2\n",
      "plugins: anyio-3.5.0, django-4.5.2\n",
      "collected 90 items / 82 deselected / 8 selected                                \u001b[0m\u001b[1m\n",
      "\n",
      "tests/test_nn_and_optim.py::test_nn_linear_weight_init_1 \u001b[32mPASSED\u001b[0m\u001b[32m          [ 12%]\u001b[0m\n",
      "tests/test_nn_and_optim.py::test_nn_linear_bias_init_1 \u001b[32mPASSED\u001b[0m\u001b[32m            [ 25%]\u001b[0m\n",
      "tests/test_nn_and_optim.py::test_nn_linear_forward_1 \u001b[32mPASSED\u001b[0m\u001b[32m              [ 37%]\u001b[0m\n",
      "tests/test_nn_and_optim.py::test_nn_linear_forward_2 \u001b[32mPASSED\u001b[0m\u001b[32m              [ 50%]\u001b[0m\n",
      "tests/test_nn_and_optim.py::test_nn_linear_forward_3 \u001b[32mPASSED\u001b[0m\u001b[32m              [ 62%]\u001b[0m\n",
      "tests/test_nn_and_optim.py::test_nn_linear_backward_1 \u001b[32mPASSED\u001b[0m\u001b[32m             [ 75%]\u001b[0m\n",
      "tests/test_nn_and_optim.py::test_nn_linear_backward_2 \u001b[32mPASSED\u001b[0m\u001b[32m             [ 87%]\u001b[0m\n",
      "tests/test_nn_and_optim.py::test_nn_linear_backward_3 \u001b[32mPASSED\u001b[0m\u001b[32m             [100%]\u001b[0m\n",
      "\n",
      "\u001b[32m======================= \u001b[32m\u001b[1m8 passed\u001b[0m, \u001b[33m82 deselected\u001b[0m\u001b[32m in 1.15s\u001b[0m\u001b[32m =======================\u001b[0m\n"
     ]
    }
   ],
   "source": [
    "!python3 -m pytest -v -k \"test_nn_linear\""
   ]
  },
  {
   "cell_type": "code",
   "execution_count": null,
   "metadata": {},
   "outputs": [],
   "source": [
    "!python -m mugrade submit 'YOUR_GRADER_KEY_HERE' -k \"nn_linear\""
   ]
  },
  {
   "cell_type": "markdown",
   "metadata": {},
   "source": [
    "### ReLU\n",
    "`needle.nn.ReLU()`\n",
    "\n",
    "Applies the rectified linear unit function element-wise:\n",
    "$ReLU(x) = max(0, x)$.\n",
    "\n",
    "If you have previously implemented ReLU's backwards pass in terms of itself, note that this is numerically unstable and will likely cause problems\n",
    "down the line.\n",
    "Instead, consider that we could write the derivative of ReLU as $I\\{x>0\\}$, where we arbitrarily decide that the derivative at $x=0$ is 0.\n",
    "(This is a _subdifferentiable_ function.)\n",
    "\n",
    "___"
   ]
  },
  {
   "cell_type": "code",
   "execution_count": 5,
   "metadata": {},
   "outputs": [
    {
     "name": "stdout",
     "output_type": "stream",
     "text": [
      "\u001b[1m============================= test session starts ==============================\u001b[0m\n",
      "platform darwin -- Python 3.9.13, pytest-7.2.1, pluggy-1.0.0 -- /Users/yikaizhu/Anaconda3/bin/python3\n",
      "cachedir: .pytest_cache\n",
      "rootdir: /Users/yikaizhu/github/MLSystems/hw2\n",
      "plugins: anyio-3.5.0, django-4.5.2\n",
      "collected 90 items / 88 deselected / 2 selected                                \u001b[0m\u001b[1m\n",
      "\n",
      "tests/test_nn_and_optim.py::test_nn_relu_forward_1 \u001b[32mPASSED\u001b[0m\u001b[32m                [ 50%]\u001b[0m\n",
      "tests/test_nn_and_optim.py::test_nn_relu_backward_1 \u001b[32mPASSED\u001b[0m\u001b[32m               [100%]\u001b[0m\n",
      "\n",
      "\u001b[32m======================= \u001b[32m\u001b[1m2 passed\u001b[0m, \u001b[33m88 deselected\u001b[0m\u001b[32m in 1.15s\u001b[0m\u001b[32m =======================\u001b[0m\n"
     ]
    }
   ],
   "source": [
    "!python3 -m pytest -v -k \"test_nn_relu\""
   ]
  },
  {
   "cell_type": "code",
   "execution_count": null,
   "metadata": {},
   "outputs": [],
   "source": [
    "!python -m mugrade submit 'YOUR_GRADER_KEY_HERE' -k \"nn_relu\""
   ]
  },
  {
   "cell_type": "markdown",
   "metadata": {
    "tags": []
   },
   "source": [
    "### Sequential\n",
    "`needle.nn.Sequential(*modules)`\n",
    "\n",
    "Applies a sequence of modules to the input (in the order that they were passed to the constructor) and returns the output of the last module.\n",
    "These should be kept in a `.module` property: you should _not_ redefine any magic methods like `__getitem__`, as this may not be compatible with our tests.\n",
    "\n",
    "##### Parameters\n",
    "- `*modules` - any number of modules of type `needle.nn.Module`\n",
    "\n",
    "___"
   ]
  },
  {
   "cell_type": "code",
   "execution_count": 6,
   "metadata": {},
   "outputs": [
    {
     "name": "stdout",
     "output_type": "stream",
     "text": [
      "\u001b[1m============================= test session starts ==============================\u001b[0m\n",
      "platform darwin -- Python 3.9.13, pytest-7.2.1, pluggy-1.0.0 -- /Users/yikaizhu/Anaconda3/bin/python3\n",
      "cachedir: .pytest_cache\n",
      "rootdir: /Users/yikaizhu/github/MLSystems/hw2\n",
      "plugins: anyio-3.5.0, django-4.5.2\n",
      "collected 90 items / 88 deselected / 2 selected                                \u001b[0m\u001b[1m\n",
      "\n",
      "tests/test_nn_and_optim.py::test_nn_sequential_forward_1 \u001b[32mPASSED\u001b[0m\u001b[32m          [ 50%]\u001b[0m\n",
      "tests/test_nn_and_optim.py::test_nn_sequential_backward_1 \u001b[32mPASSED\u001b[0m\u001b[32m         [100%]\u001b[0m\n",
      "\n",
      "\u001b[32m======================= \u001b[32m\u001b[1m2 passed\u001b[0m, \u001b[33m88 deselected\u001b[0m\u001b[32m in 1.15s\u001b[0m\u001b[32m =======================\u001b[0m\n"
     ]
    }
   ],
   "source": [
    "!python3 -m pytest -v -k \"test_nn_sequential\""
   ]
  },
  {
   "cell_type": "code",
   "execution_count": null,
   "metadata": {},
   "outputs": [],
   "source": [
    "!python -m mugrade submit 'YOUR_GRADER_KEY_HERE' -k \"nn_sequential\""
   ]
  },
  {
   "cell_type": "markdown",
   "metadata": {
    "tags": []
   },
   "source": [
    "### LogSumExp\n",
    "\n",
    "`needle.ops.LogSumExp(axes)`\n",
    "\n",
    "Here you will need to implement one additional operatior in the `python/ops.py` file, as you did in HW1. Applies a numerically stable log-sum-exp function to the input by subtracting off the maximum elements.\n",
    "\n",
    "\\begin{equation}\n",
    "\\text{LogSumExp}(z) = \\log (\\sum_{i} \\exp (z_i - \\max{z})) + \\max{z}\n",
    "\\end{equation}\n",
    "\n",
    "#### Parameters\n",
    "- `axes` - Tuple of axes to sum and take the maximum element over. This uses the same conventions as `needle.ops.Summation()`\n",
    "\n",
    "___"
   ]
  },
  {
   "cell_type": "code",
   "execution_count": 7,
   "metadata": {},
   "outputs": [
    {
     "name": "stdout",
     "output_type": "stream",
     "text": [
      "\u001b[1m============================= test session starts ==============================\u001b[0m\n",
      "platform darwin -- Python 3.9.13, pytest-7.2.1, pluggy-1.0.0 -- /Users/yikaizhu/Anaconda3/bin/python3\n",
      "cachedir: .pytest_cache\n",
      "rootdir: /Users/yikaizhu/github/MLSystems/hw2\n",
      "plugins: anyio-3.5.0, django-4.5.2\n",
      "collected 90 items / 80 deselected / 10 selected                               \u001b[0m\u001b[1m\n",
      "\n",
      "tests/test_nn_and_optim.py::test_op_logsumexp_forward_1 \u001b[32mPASSED\u001b[0m\u001b[32m           [ 10%]\u001b[0m\n",
      "tests/test_nn_and_optim.py::test_op_logsumexp_forward_2 \u001b[32mPASSED\u001b[0m\u001b[32m           [ 20%]\u001b[0m\n",
      "tests/test_nn_and_optim.py::test_op_logsumexp_forward_3 \u001b[32mPASSED\u001b[0m\u001b[32m           [ 30%]\u001b[0m\n",
      "tests/test_nn_and_optim.py::test_op_logsumexp_forward_4 \u001b[32mPASSED\u001b[0m\u001b[32m           [ 40%]\u001b[0m\n",
      "tests/test_nn_and_optim.py::test_op_logsumexp_forward_5 \u001b[32mPASSED\u001b[0m\u001b[32m           [ 50%]\u001b[0m\n",
      "tests/test_nn_and_optim.py::test_op_logsumexp_backward_1 \u001b[32mPASSED\u001b[0m\u001b[32m          [ 60%]\u001b[0m\n",
      "tests/test_nn_and_optim.py::test_op_logsumexp_backward_2 \u001b[32mPASSED\u001b[0m\u001b[32m          [ 70%]\u001b[0m\n",
      "tests/test_nn_and_optim.py::test_op_logsumexp_backward_3 \u001b[32mPASSED\u001b[0m\u001b[32m          [ 80%]\u001b[0m\n",
      "tests/test_nn_and_optim.py::test_op_logsumexp_backward_5 \u001b[32mPASSED\u001b[0m\u001b[32m          [ 90%]\u001b[0m\n",
      "tests/test_nn_and_optim.py::test_op_logsumexp_backward_4 \u001b[32mPASSED\u001b[0m\u001b[32m          [100%]\u001b[0m\n",
      "\n",
      "\u001b[32m====================== \u001b[32m\u001b[1m10 passed\u001b[0m, \u001b[33m80 deselected\u001b[0m\u001b[32m in 1.17s\u001b[0m\u001b[32m =======================\u001b[0m\n"
     ]
    }
   ],
   "source": [
    "!python3 -m pytest -v -k \"test_op_logsumexp\""
   ]
  },
  {
   "cell_type": "code",
   "execution_count": null,
   "metadata": {},
   "outputs": [],
   "source": [
    "!python -m mugrade submit 'YOUR_GRADER_KEY_HERE' -k \"op_logsumexp\""
   ]
  },
  {
   "cell_type": "markdown",
   "metadata": {
    "tags": []
   },
   "source": [
    "### SoftmaxLoss\n",
    "\n",
    "`needle.nn.SoftmaxLoss()`\n",
    "\n",
    "Applies the softmax loss as defined below (and as implemented in Homework 1), taking in as input a Tensor of logits and a Tensor of the true labels (expressed as a list of numbers, *not* one-hot encoded).\n",
    "\n",
    "Note that you can use the `init.one_hot` function now instead of writing this yourself.  Note: You will need to use the numerically stable logsumexp operated you just implemented for this purpose.\n",
    "\n",
    "\\begin{equation}\n",
    "\\ell_\\text{softmax}(z,y) = \\log \\sum_{i=1}^k \\exp z_i - z_y\n",
    "\\end{equation}\n",
    "\n",
    "___"
   ]
  },
  {
   "cell_type": "code",
   "execution_count": 13,
   "metadata": {},
   "outputs": [
    {
     "name": "stdout",
     "output_type": "stream",
     "text": [
      "\u001b[1m============================= test session starts ==============================\u001b[0m\n",
      "platform darwin -- Python 3.9.13, pytest-7.2.1, pluggy-1.0.0 -- /Users/yikaizhu/Anaconda3/bin/python3\n",
      "cachedir: .pytest_cache\n",
      "rootdir: /Users/yikaizhu/github/MLSystems/hw2\n",
      "plugins: anyio-3.5.0, django-4.5.2\n",
      "collected 90 items / 86 deselected / 4 selected                                \u001b[0m\u001b[1m\n",
      "\n",
      "tests/test_nn_and_optim.py::test_nn_softmax_loss_forward_1 \u001b[32mPASSED\u001b[0m\u001b[32m        [ 25%]\u001b[0m\n",
      "tests/test_nn_and_optim.py::test_nn_softmax_loss_forward_2 \u001b[32mPASSED\u001b[0m\u001b[32m        [ 50%]\u001b[0m\n",
      "tests/test_nn_and_optim.py::test_nn_softmax_loss_backward_1 \u001b[32mPASSED\u001b[0m\u001b[32m       [ 75%]\u001b[0m\n",
      "tests/test_nn_and_optim.py::test_nn_softmax_loss_backward_2 \u001b[32mPASSED\u001b[0m\u001b[32m       [100%]\u001b[0m\n",
      "\n",
      "\u001b[32m======================= \u001b[32m\u001b[1m4 passed\u001b[0m, \u001b[33m86 deselected\u001b[0m\u001b[32m in 1.18s\u001b[0m\u001b[32m =======================\u001b[0m\n"
     ]
    }
   ],
   "source": [
    "!python3 -m pytest -v -k \"test_nn_softmax_loss\""
   ]
  },
  {
   "cell_type": "code",
   "execution_count": null,
   "metadata": {},
   "outputs": [],
   "source": [
    "!python -m mugrade submit 'YOUR_GRADER_KEY_HERE' -k \"nn_softmax_loss\""
   ]
  },
  {
   "cell_type": "markdown",
   "metadata": {
    "tags": []
   },
   "source": [
    "### LayerNorm1d\n",
    "`needle.nn.LayerNorm1d(dim, eps=1e-5, device=None, dtype=\"float32\")`\n",
    "\n",
    "Applies layer normalization over a mini-batch of inputs as described in the paper [Layer Normalization](https://arxiv.org/abs/1607.06450).\n",
    "\n",
    "\\begin{equation}\n",
    "y = w \\circ \\frac{x_i - \\textbf{E}[x]}{((\\textbf{Var}[x]+\\epsilon)^{1/2})} + b\n",
    "\\end{equation}\n",
    "\n",
    "where $\\textbf{E}[x]$ denotes the empirical mean of the inputs, $\\textbf{Var}[x]$ denotes their empirical variance (not that here we are using the \"unbiased\" estimate of the variance, i.e., dividing by $N$ rather than by $N-1$), and $w$ and $b$ denote learnable scalar weights and biases respectively.  Note you can assume the input to this layer by be a 2D tensor, with batches in the first dimension and features on the second.\n",
    "\n",
    "##### Parameters\n",
    "- `dim` - number of channels\n",
    "- `eps` - a value added to the denominator for numerical stability.\n",
    "\n",
    "##### Variables\n",
    "- `weight` - the learnable weights of size `dim`, elements initialized to 1.\n",
    "- `bias` - the learnable bias of shape `dim`, elements initialized to 0 **(changed from 1)**.\n",
    "___"
   ]
  },
  {
   "cell_type": "code",
   "execution_count": 9,
   "metadata": {},
   "outputs": [
    {
     "name": "stdout",
     "output_type": "stream",
     "text": [
      "\u001b[1m============================= test session starts ==============================\u001b[0m\n",
      "platform darwin -- Python 3.9.13, pytest-7.2.1, pluggy-1.0.0 -- /Users/yikaizhu/Anaconda3/bin/python3\n",
      "cachedir: .pytest_cache\n",
      "rootdir: /Users/yikaizhu/github/MLSystems/hw2\n",
      "plugins: anyio-3.5.0, django-4.5.2\n",
      "collected 90 items / 83 deselected / 7 selected                                \u001b[0m\u001b[1m\n",
      "\n",
      "tests/test_nn_and_optim.py::test_nn_layernorm_forward_1 \u001b[32mPASSED\u001b[0m\u001b[32m           [ 14%]\u001b[0m\n",
      "tests/test_nn_and_optim.py::test_nn_layernorm_forward_2 \u001b[32mPASSED\u001b[0m\u001b[32m           [ 28%]\u001b[0m\n",
      "tests/test_nn_and_optim.py::test_nn_layernorm_forward_3 \u001b[32mPASSED\u001b[0m\u001b[32m           [ 42%]\u001b[0m\n",
      "tests/test_nn_and_optim.py::test_nn_layernorm_backward_1 \u001b[32mPASSED\u001b[0m\u001b[32m          [ 57%]\u001b[0m\n",
      "tests/test_nn_and_optim.py::test_nn_layernorm_backward_2 \u001b[32mPASSED\u001b[0m\u001b[32m          [ 71%]\u001b[0m\n",
      "tests/test_nn_and_optim.py::test_nn_layernorm_backward_3 \u001b[32mPASSED\u001b[0m\u001b[32m          [ 85%]\u001b[0m\n",
      "tests/test_nn_and_optim.py::test_nn_layernorm_backward_4 \u001b[32mPASSED\u001b[0m\u001b[32m          [100%]\u001b[0m\n",
      "\n",
      "\u001b[32m======================= \u001b[32m\u001b[1m7 passed\u001b[0m, \u001b[33m83 deselected\u001b[0m\u001b[32m in 1.20s\u001b[0m\u001b[32m =======================\u001b[0m\n"
     ]
    }
   ],
   "source": [
    "!python3 -m pytest -v -k \"test_nn_layernorm\""
   ]
  },
  {
   "cell_type": "code",
   "execution_count": null,
   "metadata": {},
   "outputs": [],
   "source": [
    "!python -m mugrade submit 'YOUR_GRADER_KEY_HERE' -k \"nn_layernorm\""
   ]
  },
  {
   "cell_type": "markdown",
   "metadata": {},
   "source": [
    "\n",
    "### Flatten\n",
    "`needle.nn.Flatten()`\n",
    "\n",
    "Takes in a tensor of shape `(B,X_0,X_1,...)`, and flattens all non-batch dimensions so that the output is of shape `(B, X_0 * X_1 * ...)`"
   ]
  },
  {
   "cell_type": "code",
   "execution_count": 10,
   "metadata": {},
   "outputs": [
    {
     "name": "stdout",
     "output_type": "stream",
     "text": [
      "\u001b[1m============================= test session starts ==============================\u001b[0m\n",
      "platform darwin -- Python 3.9.13, pytest-7.2.1, pluggy-1.0.0 -- /Users/yikaizhu/Anaconda3/bin/python3\n",
      "cachedir: .pytest_cache\n",
      "rootdir: /Users/yikaizhu/github/MLSystems/hw2\n",
      "plugins: anyio-3.5.0, django-4.5.2\n",
      "collected 90 items / 81 deselected / 9 selected                                \u001b[0m\u001b[1m\n",
      "\n",
      "tests/test_nn_and_optim.py::test_nn_flatten_forward_1 \u001b[32mPASSED\u001b[0m\u001b[32m             [ 11%]\u001b[0m\n",
      "tests/test_nn_and_optim.py::test_nn_flatten_forward_2 \u001b[32mPASSED\u001b[0m\u001b[32m             [ 22%]\u001b[0m\n",
      "tests/test_nn_and_optim.py::test_nn_flatten_forward_3 \u001b[32mPASSED\u001b[0m\u001b[32m             [ 33%]\u001b[0m\n",
      "tests/test_nn_and_optim.py::test_nn_flatten_forward_4 \u001b[32mPASSED\u001b[0m\u001b[32m             [ 44%]\u001b[0m\n",
      "tests/test_nn_and_optim.py::test_nn_flatten_backward_1 \u001b[32mPASSED\u001b[0m\u001b[32m            [ 55%]\u001b[0m\n",
      "tests/test_nn_and_optim.py::test_nn_flatten_backward_2 \u001b[32mPASSED\u001b[0m\u001b[32m            [ 66%]\u001b[0m\n",
      "tests/test_nn_and_optim.py::test_nn_flatten_backward_3 \u001b[32mPASSED\u001b[0m\u001b[32m            [ 77%]\u001b[0m\n",
      "tests/test_nn_and_optim.py::test_nn_flatten_backward_4 \u001b[32mPASSED\u001b[0m\u001b[32m            [ 88%]\u001b[0m\n",
      "tests/test_nn_and_optim.py::test_nn_flatten_backward_5 \u001b[32mPASSED\u001b[0m\u001b[32m            [100%]\u001b[0m\n",
      "\n",
      "\u001b[32m======================= \u001b[32m\u001b[1m9 passed\u001b[0m, \u001b[33m81 deselected\u001b[0m\u001b[32m in 1.13s\u001b[0m\u001b[32m =======================\u001b[0m\n"
     ]
    }
   ],
   "source": [
    "!python3 -m pytest -v -k \"test_nn_flatten\""
   ]
  },
  {
   "cell_type": "code",
   "execution_count": null,
   "metadata": {},
   "outputs": [],
   "source": [
    "!python -m mugrade submit 'YOUR_GRADER_KEY_HERE' -k \"nn_flatten\""
   ]
  },
  {
   "cell_type": "markdown",
   "metadata": {},
   "source": [
    "### BatchNorm1d\n",
    "`needle.nn.BatchNorm1d(dim, eps=1e-5, momentum=0.1, device=None, dtype=\"float32\")`\n",
    "\n",
    "Applies batch normalization over a mini-batch of inputs as described in the paper [Batch Normalization: Accelerating Deep Network Training by Reducing Internal Covariate Shift](https://arxiv.org/abs/1502.03167).\n",
    "\n",
    "\\begin{equation}\n",
    "y = w \\circ \\frac{z_i - \\textbf{E}[x]}{((\\textbf{Var}[x]+\\epsilon)^{1/2})} + b\n",
    "\\end{equation}\n",
    "\n",
    "but where here the mean and variance refer to to the mean and variance over the _batch_dimensions.  The function also computes a running average of mean/variance for all features at each layer $\\hat{\\mu}, \\hat{\\sigma}^2$, and at test time normalizes by these quantities:\n",
    "\n",
    "\\begin{equation}\n",
    "y = \\frac{(x - \\hat{mu})}{((\\hat{\\sigma}^2_{i+1})_j+\\epsilon)^{1/2}}\n",
    "\\end{equation}\n",
    "\n",
    "\n",
    "BatchNorm uses the running estimates of mean and variance instead of batch statistics at test time, i.e.,\n",
    "after `model.eval()` has been called on the BatchNorm layer's `training` flag is false.\n",
    "\n",
    "To compute the running estimates, you can use the equation $$\\hat{x_{new}} = (1 - m) \\hat{x_{old}} + mx_{observed},$$\n",
    "where $m$ is momentum.\n",
    "\n",
    "##### Parameters\n",
    "- `dim` - input dimension\n",
    "- `eps` - a value added to the denominator for numerical stability.\n",
    "- `momentum` - the value used for the running mean and running variance computation.\n",
    "\n",
    "##### Variables\n",
    "- `weight` - the learnable weights of size `dim`, elements initialized to 1.\n",
    "- `bias` - the learnable bias of size `dim`, elements initialized to 0.\n",
    "- `running_mean` - the running mean used at evaluation time, elements initialized to 0.\n",
    "- `running_var` - the running (unbiased) variance used at evaluation time, elements initialized to 1. \n",
    "\n",
    "___"
   ]
  },
  {
   "cell_type": "code",
   "execution_count": 11,
   "metadata": {},
   "outputs": [
    {
     "name": "stdout",
     "output_type": "stream",
     "text": [
      "\u001b[1m============================= test session starts ==============================\u001b[0m\n",
      "platform darwin -- Python 3.9.13, pytest-7.2.1, pluggy-1.0.0 -- /Users/yikaizhu/Anaconda3/bin/python3\n",
      "cachedir: .pytest_cache\n",
      "rootdir: /Users/yikaizhu/github/MLSystems/hw2\n",
      "plugins: anyio-3.5.0, django-4.5.2\n",
      "collected 90 items / 82 deselected / 8 selected                                \u001b[0m\u001b[1m\n",
      "\n",
      "tests/test_nn_and_optim.py::test_nn_batchnorm_check_model_eval_switches_training_flag_1 \u001b[32mPASSED\u001b[0m\u001b[32m [ 12%]\u001b[0m\n",
      "tests/test_nn_and_optim.py::test_nn_batchnorm_forward_1 \u001b[32mPASSED\u001b[0m\u001b[32m           [ 25%]\u001b[0m\n",
      "tests/test_nn_and_optim.py::test_nn_batchnorm_forward_affine_1 \u001b[32mPASSED\u001b[0m\u001b[32m    [ 37%]\u001b[0m\n",
      "tests/test_nn_and_optim.py::test_nn_batchnorm_backward_1 \u001b[32mPASSED\u001b[0m\u001b[32m          [ 50%]\u001b[0m\n",
      "tests/test_nn_and_optim.py::test_nn_batchnorm_backward_affine_1 \u001b[32mPASSED\u001b[0m\u001b[32m   [ 62%]\u001b[0m\n",
      "tests/test_nn_and_optim.py::test_nn_batchnorm_running_mean_1 \u001b[32mPASSED\u001b[0m\u001b[32m      [ 75%]\u001b[0m\n",
      "tests/test_nn_and_optim.py::test_nn_batchnorm_running_var_1 \u001b[32mPASSED\u001b[0m\u001b[32m       [ 87%]\u001b[0m\n",
      "tests/test_nn_and_optim.py::test_nn_batchnorm_running_grad_1 \u001b[32mPASSED\u001b[0m\u001b[32m      [100%]\u001b[0m\n",
      "\n",
      "\u001b[32m======================= \u001b[32m\u001b[1m8 passed\u001b[0m, \u001b[33m82 deselected\u001b[0m\u001b[32m in 1.18s\u001b[0m\u001b[32m =======================\u001b[0m\n"
     ]
    }
   ],
   "source": [
    "!python3 -m pytest -v -k \"test_nn_batchnorm\""
   ]
  },
  {
   "cell_type": "code",
   "execution_count": null,
   "metadata": {},
   "outputs": [],
   "source": [
    "!python -m mugrade submit 'YOUR_GRADER_KEY_HERE' -k \"nn_batchnorm\""
   ]
  },
  {
   "cell_type": "markdown",
   "metadata": {},
   "source": [
    "### Dropout\n",
    "`needle.nn.Dropout(p = 0.5)`\n",
    "\n",
    "During training, randomly zeroes some of the elements of the input tensor with probability `p` using samples from a Bernoulli distribution. This has proven to be an effective technique for regularization and preventing the co-adaptation of neurons as described in the paper [Improving neural networks by preventing co-adaption of feature detectors](https://arxiv.org/abs/1207.0580). During evaluation the module simply computes an identity function. \n",
    "\n",
    "\\begin{equation}\n",
    "\\hat{z}_{i+1} = \\sigma_i (W_i^T z_i + b_i) \\\\\n",
    "(z_{i+1})_j = \n",
    "    \\begin{cases}\n",
    "    (\\hat{z}_{i+1})_j /(1-p) & \\text{with probability } 1-p \\\\\n",
    "    0 & \\text{with probability } p \\\\\n",
    "    \\end{cases}\n",
    "\\end{equation}\n",
    "\n",
    "**Important**: If the Dropout module the flag `training=False`, you shouldn't \"dropout\" any weights. That is, dropout applies during training only, not during evaluation. Note that `training` is a flag in `nn.Module`.\n",
    "\n",
    "##### Parameters\n",
    "- `p` - the probability of an element to be zeroed.\n",
    "\n",
    "___"
   ]
  },
  {
   "cell_type": "code",
   "execution_count": 12,
   "metadata": {},
   "outputs": [
    {
     "name": "stdout",
     "output_type": "stream",
     "text": [
      "\u001b[1m============================= test session starts ==============================\u001b[0m\n",
      "platform darwin -- Python 3.9.13, pytest-7.2.1, pluggy-1.0.0 -- /Users/yikaizhu/Anaconda3/bin/python3\n",
      "cachedir: .pytest_cache\n",
      "rootdir: /Users/yikaizhu/github/MLSystems/hw2\n",
      "plugins: anyio-3.5.0, django-4.5.2\n",
      "collected 90 items / 88 deselected / 2 selected                                \u001b[0m\u001b[1m\n",
      "\n",
      "tests/test_nn_and_optim.py::test_nn_dropout_forward_1 \u001b[32mPASSED\u001b[0m\u001b[32m             [ 50%]\u001b[0m\n",
      "tests/test_nn_and_optim.py::test_nn_dropout_backward_1 \u001b[32mPASSED\u001b[0m\u001b[32m            [100%]\u001b[0m\n",
      "\n",
      "\u001b[32m======================= \u001b[32m\u001b[1m2 passed\u001b[0m, \u001b[33m88 deselected\u001b[0m\u001b[32m in 1.20s\u001b[0m\u001b[32m =======================\u001b[0m\n"
     ]
    }
   ],
   "source": [
    "!python3 -m pytest -v -k \"test_nn_dropout\""
   ]
  },
  {
   "cell_type": "code",
   "execution_count": null,
   "metadata": {},
   "outputs": [],
   "source": [
    "!python -m mugrade submit 'YOUR_GRADER_KEY_HERE' -k \"nn_dropout\""
   ]
  },
  {
   "cell_type": "markdown",
   "metadata": {
    "tags": []
   },
   "source": [
    "### Residual\n",
    "`needle.nn.Residual(fn: Module)`\n",
    "\n",
    "Applies a residual or skip connection given module $\\mathcal{F}$ and input Tensor $x$, returning $\\mathcal{F}(x) + x$.\n",
    "##### Parameters\n",
    "- `fn` - module of type `needle.nn.Module`"
   ]
  },
  {
   "cell_type": "code",
   "execution_count": 14,
   "metadata": {},
   "outputs": [
    {
     "name": "stdout",
     "output_type": "stream",
     "text": [
      "\u001b[1m============================= test session starts ==============================\u001b[0m\n",
      "platform darwin -- Python 3.9.13, pytest-7.2.1, pluggy-1.0.0 -- /Users/yikaizhu/Anaconda3/bin/python3\n",
      "cachedir: .pytest_cache\n",
      "rootdir: /Users/yikaizhu/github/MLSystems/hw2\n",
      "plugins: anyio-3.5.0, django-4.5.2\n",
      "collected 90 items / 88 deselected / 2 selected                                \u001b[0m\u001b[1m\n",
      "\n",
      "tests/test_nn_and_optim.py::test_nn_residual_forward_1 \u001b[32mPASSED\u001b[0m\u001b[32m            [ 50%]\u001b[0m\n",
      "tests/test_nn_and_optim.py::test_nn_residual_backward_1 \u001b[32mPASSED\u001b[0m\u001b[32m           [100%]\u001b[0m\n",
      "\n",
      "\u001b[32m======================= \u001b[32m\u001b[1m2 passed\u001b[0m, \u001b[33m88 deselected\u001b[0m\u001b[32m in 1.12s\u001b[0m\u001b[32m =======================\u001b[0m\n"
     ]
    }
   ],
   "source": [
    "!python3 -m pytest -v -k \"test_nn_residual\""
   ]
  },
  {
   "cell_type": "code",
   "execution_count": null,
   "metadata": {},
   "outputs": [],
   "source": [
    "!python -m mugrade submit 'YOUR_GRADER_KEY_HERE' -k \"nn_residual\""
   ]
  },
  {
   "cell_type": "markdown",
   "metadata": {
    "tags": []
   },
   "source": [
    "## Question 3\n",
    "\n",
    "Implement the `step` function of the following optimizers.\n",
    "Make sure that your optimizers _don't_ modify the gradients of tensors in-place.\n",
    "\n",
    "We have included some tests to ensure that you are not consuming excessive memory, which can happen if you are\n",
    "not using `.data` or `.detach()` in the right places, thus building an increasingly large computational graph\n",
    "(not just in the optimizers, but in the previous modules as well).\n",
    "You can ignore these tests, which include the string `memory_check` at your own discretion.\n",
    "\n",
    "___\n",
    "\n",
    "### SGD\n",
    "`needle.optim.SGD(params, lr=0.01, momentum=0.0, weight_decay=0.0)`\n",
    "\n",
    "Implements stochastic gradient descent (optionally with momentum, shown as $\\beta$ below). \n",
    "\n",
    "\\begin{equation}\n",
    "\\begin{split}\n",
    "    u_{t+1} &= \\beta u_t + (1-\\beta) \\nabla_\\theta f(\\theta_t) \\\\\n",
    "    \\theta_{t+1} &= \\theta_t - \\alpha u_{t+1}\n",
    "\\end{split}\n",
    "\\end{equation}\n",
    "\n",
    "##### Parameters\n",
    "- `params` - iterable of parameters of type `needle.nn.Parameter` to optimize\n",
    "- `lr` (*float*) - learning rate\n",
    "- `momentum` (*float*) - momentum factor\n",
    "- `weight_decay` (*float*) - weight decay (L2 penalty)\n",
    "___"
   ]
  },
  {
   "cell_type": "code",
   "execution_count": 15,
   "metadata": {},
   "outputs": [
    {
     "name": "stdout",
     "output_type": "stream",
     "text": [
      "\u001b[1m============================= test session starts ==============================\u001b[0m\n",
      "platform darwin -- Python 3.9.13, pytest-7.2.1, pluggy-1.0.0 -- /Users/yikaizhu/Anaconda3/bin/python3\n",
      "cachedir: .pytest_cache\n",
      "rootdir: /Users/yikaizhu/github/MLSystems/hw2\n",
      "plugins: anyio-3.5.0, django-4.5.2\n",
      "collected 90 items / 84 deselected / 6 selected                                \u001b[0m\u001b[1m\n",
      "\n",
      "tests/test_nn_and_optim.py::test_optim_sgd_vanilla_1 \u001b[32mPASSED\u001b[0m\u001b[32m              [ 16%]\u001b[0m\n",
      "tests/test_nn_and_optim.py::test_optim_sgd_momentum_1 \u001b[32mPASSED\u001b[0m\u001b[32m             [ 33%]\u001b[0m\n",
      "tests/test_nn_and_optim.py::test_optim_sgd_weight_decay_1 \u001b[32mPASSED\u001b[0m\u001b[32m         [ 50%]\u001b[0m\n",
      "tests/test_nn_and_optim.py::test_optim_sgd_momentum_weight_decay_1 \u001b[32mPASSED\u001b[0m\u001b[32m [ 66%]\u001b[0m\n",
      "tests/test_nn_and_optim.py::test_optim_sgd_layernorm_residual_1 \u001b[32mPASSED\u001b[0m\u001b[32m   [ 83%]\u001b[0m\n",
      "tests/test_nn_and_optim.py::test_optim_sgd_z_memory_check_1 \u001b[32mPASSED\u001b[0m\u001b[32m       [100%]\u001b[0m\n",
      "\n",
      "\u001b[32m======================= \u001b[32m\u001b[1m6 passed\u001b[0m, \u001b[33m84 deselected\u001b[0m\u001b[32m in 1.54s\u001b[0m\u001b[32m =======================\u001b[0m\n"
     ]
    }
   ],
   "source": [
    "!python3 -m pytest -v -k \"test_optim_sgd\""
   ]
  },
  {
   "cell_type": "code",
   "execution_count": null,
   "metadata": {},
   "outputs": [],
   "source": [
    "!python -m mugrade submit 'YOUR_GRADER_KEY_HERE' -k \"optim_sgd\""
   ]
  },
  {
   "cell_type": "markdown",
   "metadata": {
    "tags": []
   },
   "source": [
    "### Adam\n",
    "`needle.optim.Adam(params, lr=0.01, beta1=0.9, beta2=0.999, eps=1e-8, weight_decay=0.0)`\n",
    "\n",
    "Implements Adam algorithm, proposed in [Adam: A Method for Stochastic Optimization](https://arxiv.org/abs/1412.6980). \n",
    "\n",
    "\\begin{equation}\n",
    "\\begin{split}\n",
    "u_{t+1} &= \\beta_1 u_t + (1-\\beta_1) \\nabla_\\theta f(\\theta_t) \\\\\n",
    "v_{t+1} &= \\beta_2 v_t + (1-\\beta_2) (\\nabla_\\theta f(\\theta_t))^2 \\\\\n",
    "\\hat{u}_{t+1} &= u_{t+1} / (1 - \\beta_1^t) \\quad \\text{(bias correction)} \\\\\n",
    "\\hat{v}_{t+1} &= v_{t+1} / (1 - \\beta_2^t) \\quad \\text{(bias correction)}\\\\\n",
    "\\theta_{t+1} &= \\theta_t - \\alpha \\hat{u_{t+1}}/(\\hat{v}_{t+1}^{1/2}+\\epsilon)\n",
    "\\end{split}\n",
    "    \\end{equation}\n",
    "\n",
    "**Important:** Pay attention to whether or not you are applying bias correction.\n",
    "\n",
    "##### Parameters\n",
    "- `params` - iterable of parameters of type `needle.nn.Parameter` to optimize\n",
    "- `lr` (*float*) - learning rate\n",
    "- `beta1` (*float*) - coefficient used for computing running average of gradient\n",
    "- `beta2` (*float*) - coefficient used for computing running average of square of gradient\n",
    "- `eps` (*float*) - term added to the denominator to improve numerical stability\n",
    "- `bias_correction` - whether to use bias correction for $u, v$\n",
    "- `weight_decay` (*float*) - weight decay (L2 penalty)"
   ]
  },
  {
   "cell_type": "code",
   "execution_count": 16,
   "metadata": {},
   "outputs": [
    {
     "name": "stdout",
     "output_type": "stream",
     "text": [
      "\u001b[1m============================= test session starts ==============================\u001b[0m\n",
      "platform darwin -- Python 3.9.13, pytest-7.2.1, pluggy-1.0.0 -- /Users/yikaizhu/Anaconda3/bin/python3\n",
      "cachedir: .pytest_cache\n",
      "rootdir: /Users/yikaizhu/github/MLSystems/hw2\n",
      "plugins: anyio-3.5.0, django-4.5.2\n",
      "collected 90 items / 83 deselected / 7 selected                                \u001b[0m\u001b[1m\n",
      "\n",
      "tests/test_nn_and_optim.py::test_optim_adam_1 \u001b[32mPASSED\u001b[0m\u001b[32m                     [ 14%]\u001b[0m\n",
      "tests/test_nn_and_optim.py::test_optim_adam_weight_decay_1 \u001b[32mPASSED\u001b[0m\u001b[32m        [ 28%]\u001b[0m\n",
      "tests/test_nn_and_optim.py::test_optim_adam_batchnorm_1 \u001b[32mPASSED\u001b[0m\u001b[32m           [ 42%]\u001b[0m\n",
      "tests/test_nn_and_optim.py::test_optim_adam_batchnorm_eval_mode_1 \u001b[32mPASSED\u001b[0m\u001b[32m [ 57%]\u001b[0m\n",
      "tests/test_nn_and_optim.py::test_optim_adam_layernorm_1 \u001b[32mPASSED\u001b[0m\u001b[32m           [ 71%]\u001b[0m\n",
      "tests/test_nn_and_optim.py::test_optim_adam_weight_decay_bias_correction_1 \u001b[32mPASSED\u001b[0m\u001b[32m [ 85%]\u001b[0m\n",
      "tests/test_nn_and_optim.py::test_optim_adam_z_memory_check_1 \u001b[32mPASSED\u001b[0m\u001b[32m      [100%]\u001b[0m\n",
      "\n",
      "\u001b[32m======================= \u001b[32m\u001b[1m7 passed\u001b[0m, \u001b[33m83 deselected\u001b[0m\u001b[32m in 1.55s\u001b[0m\u001b[32m =======================\u001b[0m\n"
     ]
    }
   ],
   "source": [
    "!python3 -m pytest -v -k \"test_optim_adam\""
   ]
  },
  {
   "cell_type": "code",
   "execution_count": null,
   "metadata": {},
   "outputs": [],
   "source": [
    "!python -m mugrade submit 'YOUR_GRADER_KEY_HERE' -k \"optim_adam\""
   ]
  },
  {
   "cell_type": "markdown",
   "metadata": {},
   "source": [
    "## Question 4\n",
    "\n",
    "In this question, you will implement two data primitives: `needle.data.DataLoader` and `needle.data.Dataset`. `Dataset` stores the samples and their corresponding labels, and `DataLoader` wraps an iterable around the `Dataset` to enable easy access to the samples. \n",
    "\n",
    "For this question, you will be working in `python/needle/data.py`. First, copy your solution to `parse_mnist` from the previous homework into the `parse_mnist` function. \n",
    "\n",
    "### Transformations\n",
    "\n",
    "First we will implement a few transformations that are helpful when working with images. We will stick with a horizontal flip and a random crop for now. Fill out the following functions in `data.py`.\n",
    "___ \n",
    "\n",
    "#### RandomFlipHorizontal\n",
    "`needle.data.RandomFlipHorizontal(p = 0.5)`\n",
    "\n",
    "Flips the image horizontally, with probability `p`.\n",
    "\n",
    "##### Parameters\n",
    "- `p` (*float*) - The probability of flipping the input image.\n",
    "___\n",
    "\n",
    "#### RandomCrop\n",
    "`needle.data.RandomCrop(padding=3)`\n",
    "\n",
    "Padding is added to all side of the image, and then the image is cropped back to it's original size at a random location. Returns an image the same size as the original image.\n",
    "\n",
    "##### Parameters\n",
    "- `padding` (*int*) - The padding on each border of the image."
   ]
  },
  {
   "cell_type": "code",
   "execution_count": 18,
   "metadata": {},
   "outputs": [
    {
     "name": "stdout",
     "output_type": "stream",
     "text": [
      "\u001b[1m============================= test session starts ==============================\u001b[0m\n",
      "platform darwin -- Python 3.9.13, pytest-7.2.1, pluggy-1.0.0 -- /Users/yikaizhu/Anaconda3/bin/python3\n",
      "cachedir: .pytest_cache\n",
      "rootdir: /Users/yikaizhu/github/MLSystems/hw2\n",
      "plugins: anyio-3.5.0, django-4.5.2\n",
      "collected 90 items / 89 deselected / 1 selected                                \u001b[0m\u001b[1m\n",
      "\n",
      "tests/test_data.py::test_flip_horizontal \u001b[32mPASSED\u001b[0m\u001b[32m                          [100%]\u001b[0m\n",
      "\n",
      "\u001b[32m======================= \u001b[32m\u001b[1m1 passed\u001b[0m, \u001b[33m89 deselected\u001b[0m\u001b[32m in 1.07s\u001b[0m\u001b[32m =======================\u001b[0m\n",
      "\u001b[1m============================= test session starts ==============================\u001b[0m\n",
      "platform darwin -- Python 3.9.13, pytest-7.2.1, pluggy-1.0.0 -- /Users/yikaizhu/Anaconda3/bin/python3\n",
      "cachedir: .pytest_cache\n",
      "rootdir: /Users/yikaizhu/github/MLSystems/hw2\n",
      "plugins: anyio-3.5.0, django-4.5.2\n",
      "collected 90 items / 89 deselected / 1 selected                                \u001b[0m\u001b[1m\n",
      "\n",
      "tests/test_data.py::test_random_crop \u001b[32mPASSED\u001b[0m\u001b[32m                              [100%]\u001b[0m\n",
      "\n",
      "\u001b[32m======================= \u001b[32m\u001b[1m1 passed\u001b[0m, \u001b[33m89 deselected\u001b[0m\u001b[32m in 1.04s\u001b[0m\u001b[32m =======================\u001b[0m\n"
     ]
    }
   ],
   "source": [
    "!python3 -m pytest -v -k \"flip_horizontal\"\n",
    "!python3 -m pytest -v -k \"random_crop\""
   ]
  },
  {
   "cell_type": "code",
   "execution_count": null,
   "metadata": {},
   "outputs": [],
   "source": [
    "# !python -m mugrade submit 'YOUR_GRADER_KEY_HERE' -k \"flip_horizontal\"\n",
    "# !python -m mugrade submit 'YOUR_GRADER_KEY_HERE' -k \"random_crop\""
   ]
  },
  {
   "cell_type": "markdown",
   "metadata": {},
   "source": [
    "### Dataset\n",
    "\n",
    "Each `Dataset` subclass must implement three functions: `__init__`, `__len__`, and `__getitem__`. The `__init__` function initializes the images, labels, and transforms. The `__len__` function returns the number of samples in the dataset. The `__getitem__` function retrieves a sample from the dataset at a given index `idx`, calls the transform functions on the image (if applicable), converts the image and label to a numpy array (the data will be converted to Tensors elsewhere). Fill out these functions in the `MNISTDataset` class: \n",
    "___ \n",
    "\n",
    "### MNISTDataset\n",
    "`needle.data.MNISTDataset(image_filesname, label_filesname, transforms)`\n",
    "\n",
    "##### Parameters\n",
    "- `image_filesname` - path of file containing images\n",
    "- `label_filesname` - path of file containing labels\n",
    "- `transforms` - an optional list of transforms to apply to data\n"
   ]
  },
  {
   "cell_type": "code",
   "execution_count": 44,
   "metadata": {},
   "outputs": [
    {
     "name": "stdout",
     "output_type": "stream",
     "text": [
      "\u001b[1m============================= test session starts ==============================\u001b[0m\n",
      "platform darwin -- Python 3.9.13, pytest-7.2.1, pluggy-1.0.0 -- /Users/yikaizhu/Anaconda3/bin/python3\n",
      "cachedir: .pytest_cache\n",
      "rootdir: /Users/yikaizhu/github/MLSystems/hw2\n",
      "plugins: anyio-3.5.0, django-4.5.2\n",
      "collected 90 items / 89 deselected / 1 selected                                \u001b[0m\u001b[1m\n",
      "\n",
      "tests/test_data.py::test_mnist_dataset \u001b[32mPASSED\u001b[0m\u001b[32m                            [100%]\u001b[0m\n",
      "\n",
      "\u001b[32m====================== \u001b[32m\u001b[1m1 passed\u001b[0m, \u001b[33m89 deselected\u001b[0m\u001b[32m in 11.87s\u001b[0m\u001b[32m =======================\u001b[0m\n"
     ]
    }
   ],
   "source": [
    "!python3 -m pytest -v -k \"test_mnist_dataset\""
   ]
  },
  {
   "cell_type": "code",
   "execution_count": null,
   "metadata": {},
   "outputs": [],
   "source": [
    "# !python -m mugrade submit 'YOUR_GRADER_KEY_HERE' -k \"mnist_dataset\""
   ]
  },
  {
   "cell_type": "markdown",
   "metadata": {},
   "source": [
    "### Dataloader\n",
    "\n",
    "The Dataloader class provides an interface for assembling mini-batches of examples suitable for training using SGD-based approaches, backed by a Dataset object.  In order to build the typical Dataloader interface (allowing users to iterate over all the mini-batches in the dataset), you will need the implement the `__iter__()` and `__next__()` calls in the class: `__iter__()` is called at the start of iteration, while `__next__()` is called to grab the next mini-batch. Please note that subsequent calls to next will require you to return the following batches, so next is not a pure function.\n",
    "___\n",
    "\n",
    "### Dataloader\n",
    "`needle.data.Dataloader(dataset: Dataset, batch_size: Optional[int] = 1, shuffle: bool = False)`\n",
    "\n",
    "Combines a dataset and a sampler, and provides an iterable over the given dataset. \n",
    "\n",
    "##### Parameters\n",
    "- `dataset` - `needle.data.Dataset` - a dataset \n",
    "- `batch_size` - `int` - what batch size to serve the data in \n",
    "- `shuffle` - `bool` - set to ``True`` to have the data reshuffle at every epoch, default ``False``.\n",
    "___ \n",
    "\n",
    "\n",
    "\n"
   ]
  },
  {
   "cell_type": "code",
   "execution_count": 43,
   "metadata": {
    "scrolled": true
   },
   "outputs": [
    {
     "name": "stdout",
     "output_type": "stream",
     "text": [
      "\u001b[1m============================= test session starts ==============================\u001b[0m\n",
      "platform darwin -- Python 3.9.13, pytest-7.2.1, pluggy-1.0.0 -- /Users/yikaizhu/Anaconda3/bin/python3\n",
      "cachedir: .pytest_cache\n",
      "rootdir: /Users/yikaizhu/github/MLSystems/hw2\n",
      "plugins: anyio-3.5.0, django-4.5.2\n",
      "collected 90 items / 88 deselected / 2 selected                                \u001b[0m\u001b[1m\n",
      "\n",
      "tests/test_data.py::test_dataloader_mnist \u001b[32mPASSED\u001b[0m\u001b[32m                         [ 50%]\u001b[0m\n",
      "tests/test_data.py::test_dataloader_ndarray \u001b[32mPASSED\u001b[0m\u001b[32m                       [100%]\u001b[0m\n",
      "\n",
      "\u001b[32m====================== \u001b[32m\u001b[1m2 passed\u001b[0m, \u001b[33m88 deselected\u001b[0m\u001b[32m in 18.84s\u001b[0m\u001b[32m =======================\u001b[0m\n"
     ]
    }
   ],
   "source": [
    "!python3 -m pytest -v -k \"test_dataloader\""
   ]
  },
  {
   "cell_type": "code",
   "execution_count": null,
   "metadata": {},
   "outputs": [],
   "source": [
    "!python -m mugrade submit 'YOUR_GRADER_KEY_HERE' -k \"dataloader\""
   ]
  },
  {
   "cell_type": "markdown",
   "metadata": {},
   "source": [
    "## Question 5\n",
    "\n",
    "Given you have now implemented all the necessary components for our neural network library, let's build and train an MLP ResNet. For this question, you will be working in `apps/mlp_resnet.py`. First, fill out the functions `ResidualBlock` and `MLPResNet` as described below:\n",
    "\n",
    "### ResidualBlock\n",
    "`ResidualBlock(dim, hidden_dim, norm=nn.BatchNorm1d, drop_prob=0.1)`\n",
    "\n",
    "Implements a residual block as follows:\n",
    "\n",
    "![](figures/residualblock.png)\n",
    "\n",
    "where the first linear layer has `in_features=dim` and `out_features=hidden_dim`, and the last linear layer has `out_features=dim`. Returns the block as type `nn.Module`. \n",
    "\n",
    "##### Parameters\n",
    "- `dim` (*int*) - input dim\n",
    "- `hidden_dim` (*int*) - hidden dim\n",
    "- `norm` (*nn.Module*) - normalization method\n",
    "- `drop_prob` (*float*) - dropout probability\n",
    "\n",
    "___\n",
    "\n",
    "### MLPResNet\n",
    "`MLPResNet(dim, hidden_dim=100, num_blocks=3, num_classes=10, norm=nn.BatchNorm1d, drop_prob=0.1)`\n",
    "\n",
    "Implements an MLP ResNet as follows:\n",
    "\n",
    "![](figures/mlp_resnet.png)\n",
    "\n",
    "where the first linear layer has `in_features=dim` and `out_features=hidden_dim`, and each ResidualBlock has `dim=hidden_dim` and `hidden_dim=hidden_dim//2`. Returns a network of type `nn.Module`.\n",
    "\n",
    "##### Parameters\n",
    "- `dim` (*int*) - input dim\n",
    "- `hidden_dim` (*int*) - hidden dim\n",
    "- `num_blocks` (*int*) - number of ResidualBlocks\n",
    "- `num_classes` (*int*) - number of classes\n",
    "- `norm` (*nn.Module*) - normalization method\n",
    "- `drop_prob` (*float*) - dropout probability (0.1)\n",
    "___ \n",
    "\n",
    "Once you have the deep learning model architecture correct, let's train the network using our new neural network library components. Specifically, implement the functions `epoch` and `train_mnist`.\n",
    "\n",
    "### Epoch\n",
    "\n",
    "`epoch(dataloader, model, opt=None)`\n",
    "\n",
    "Executes one epoch of training or evaluation, iterating over the entire training dataset once (just like `nn_epoch` from previous homeworks). Returns the average error rate **(changed from accuracy)** (as a *float*) and the average loss over all samples (as a *float*). Set the model to `training` mode at the beginning of the function if `opt` is given; set the model to `eval` if `opt` is not given (i.e. `None`).\n",
    "\n",
    "##### Parameters\n",
    "- `dataloader` (*`needle.data.DataLoader`*) - dataloader returning samples from the training dataset\n",
    "- `model` (*`needle.nn.Module`*) - neural network\n",
    "- `opt` (*`needle.optim.Optimizer`*) - optimizer instance, or `None`\n",
    "\n",
    "___\n",
    "\n",
    "### Train Mnist\n",
    "\n",
    "`train_mnist(batch_size=100, epochs=10, optimizer=ndl.optim.Adam, lr=0.001, weight_decay=0.001, hidden_dim=100, data_dir=\"data\")`\n",
    "                \n",
    "Initializes a training dataloader (with `shuffle` set to `True`) and a test dataloader for MNIST data, and trains an `MLPResNet` using the given optimizer (if `opt` is not None) and the softmax loss for a given number of epochs. Returns a tuple of the training accuracy, training loss, test accuracy, test loss computed in the last epoch of training. If any parameters are not specified, use the default parameters.\n",
    "\n",
    "##### Parameters\n",
    "- `batch_size` (*int*) - batch size to use for train and test dataloader\n",
    "- `epochs` (*int*) - number of epochs to train for\n",
    "- `optimizer` (*`needle.optim.Optimizer` type*) - optimizer type to use\n",
    "- `lr` (*float*) - learning rate \n",
    "- `weight_decay` (*float*) - weight decay\n",
    "- `hidden_dim` (*int*) - hidden dim for `MLPResNet`\n",
    "- `data_dir` (*int*) - directory containing MNIST image/label files\n"
   ]
  },
  {
   "cell_type": "code",
   "execution_count": 47,
   "metadata": {},
   "outputs": [
    {
     "name": "stdout",
     "output_type": "stream",
     "text": [
      "\u001b[1m============================= test session starts ==============================\u001b[0m\n",
      "platform darwin -- Python 3.9.13, pytest-7.2.1, pluggy-1.0.0 -- /Users/yikaizhu/Anaconda3/bin/python3\n",
      "cachedir: .pytest_cache\n",
      "rootdir: /Users/yikaizhu/github/MLSystems/hw2\n",
      "plugins: anyio-3.5.0, django-4.5.2\n",
      "collected 90 items / 80 deselected / 10 selected                               \u001b[0m\u001b[1m\n",
      "\n",
      "tests/test_nn_and_optim.py::test_mlp_residual_block_num_params_1 \u001b[31mFAILED\u001b[0m\u001b[31m  [ 10%]\u001b[0m\n",
      "tests/test_nn_and_optim.py::test_mlp_residual_block_num_params_2 \u001b[31mFAILED\u001b[0m\u001b[31m  [ 20%]\u001b[0m\n",
      "tests/test_nn_and_optim.py::test_mlp_residual_block_forward_1 \u001b[31mFAILED\u001b[0m\u001b[31m     [ 30%]\u001b[0m\n",
      "tests/test_nn_and_optim.py::test_mlp_resnet_num_params_1 \u001b[31mFAILED\u001b[0m\u001b[31m          [ 40%]\u001b[0m\n",
      "tests/test_nn_and_optim.py::test_mlp_resnet_num_params_2 \u001b[31mFAILED\u001b[0m\u001b[31m          [ 50%]\u001b[0m\n",
      "tests/test_nn_and_optim.py::test_mlp_resnet_forward_1 \u001b[31mFAILED\u001b[0m\u001b[31m             [ 60%]\u001b[0m\n",
      "tests/test_nn_and_optim.py::test_mlp_resnet_forward_2 \u001b[31mFAILED\u001b[0m\u001b[31m             [ 70%]\u001b[0m\n",
      "tests/test_nn_and_optim.py::test_mlp_train_epoch_1 \u001b[31mFAILED\u001b[0m\u001b[31m                [ 80%]\u001b[0m\n",
      "tests/test_nn_and_optim.py::test_mlp_eval_epoch_1 \u001b[31mFAILED\u001b[0m\u001b[31m                 [ 90%]\u001b[0m\n",
      "tests/test_nn_and_optim.py::test_mlp_train_mnist_1 \u001b[31mFAILED\u001b[0m\u001b[31m                [100%]\u001b[0m\n",
      "\n",
      "=================================== FAILURES ===================================\n",
      "\u001b[31m\u001b[1m_____________________ test_mlp_residual_block_num_params_1 _____________________\u001b[0m\n",
      "\n",
      "    \u001b[94mdef\u001b[39;49;00m \u001b[92mtest_mlp_residual_block_num_params_1\u001b[39;49;00m():\n",
      ">       np.testing.assert_allclose(residual_block_num_params(\u001b[94m15\u001b[39;49;00m, \u001b[94m2\u001b[39;49;00m, nn.BatchNorm1d),\n",
      "            np.array(\u001b[94m111\u001b[39;49;00m), rtol=\u001b[94m1e-5\u001b[39;49;00m, atol=\u001b[94m1e-5\u001b[39;49;00m)\n",
      "\u001b[1m\u001b[31mE       AssertionError: \u001b[0m\n",
      "\u001b[1m\u001b[31mE       Not equal to tolerance rtol=1e-05, atol=1e-05\u001b[0m\n",
      "\u001b[1m\u001b[31mE       \u001b[0m\n",
      "\u001b[1m\u001b[31mE       Mismatched elements: 1 / 1 (100%)\u001b[0m\n",
      "\u001b[1m\u001b[31mE       Max absolute difference: 26\u001b[0m\n",
      "\u001b[1m\u001b[31mE       Max relative difference: 0.23423423\u001b[0m\n",
      "\u001b[1m\u001b[31mE        x: array(85)\u001b[0m\n",
      "\u001b[1m\u001b[31mE        y: array(111)\u001b[0m\n",
      "\n",
      "\u001b[1m\u001b[31mtests/test_nn_and_optim.py\u001b[0m:1033: AssertionError\n",
      "\u001b[31m\u001b[1m_____________________ test_mlp_residual_block_num_params_2 _____________________\u001b[0m\n",
      "\n",
      "    \u001b[94mdef\u001b[39;49;00m \u001b[92mtest_mlp_residual_block_num_params_2\u001b[39;49;00m():\n",
      ">       np.testing.assert_allclose(residual_block_num_params(\u001b[94m784\u001b[39;49;00m, \u001b[94m100\u001b[39;49;00m, nn.LayerNorm1d),\n",
      "            np.array(\u001b[94m159452\u001b[39;49;00m), rtol=\u001b[94m1e-5\u001b[39;49;00m, atol=\u001b[94m1e-5\u001b[39;49;00m)\n",
      "\u001b[1m\u001b[31mE       AssertionError: \u001b[0m\n",
      "\u001b[1m\u001b[31mE       Not equal to tolerance rtol=1e-05, atol=1e-05\u001b[0m\n",
      "\u001b[1m\u001b[31mE       \u001b[0m\n",
      "\u001b[1m\u001b[31mE       Mismatched elements: 1 / 1 (100%)\u001b[0m\n",
      "\u001b[1m\u001b[31mE       Max absolute difference: 1368\u001b[0m\n",
      "\u001b[1m\u001b[31mE       Max relative difference: 0.00857938\u001b[0m\n",
      "\u001b[1m\u001b[31mE        x: array(158084)\u001b[0m\n",
      "\u001b[1m\u001b[31mE        y: array(159452)\u001b[0m\n",
      "\n",
      "\u001b[1m\u001b[31mtests/test_nn_and_optim.py\u001b[0m:1037: AssertionError\n",
      "\u001b[31m\u001b[1m______________________ test_mlp_residual_block_forward_1 _______________________\u001b[0m\n",
      "\n",
      "    \u001b[94mdef\u001b[39;49;00m \u001b[92mtest_mlp_residual_block_forward_1\u001b[39;49;00m():\n",
      "        np.testing.assert_allclose(\n",
      ">           residual_block_forward(\u001b[94m15\u001b[39;49;00m, \u001b[94m10\u001b[39;49;00m, nn.LayerNorm1d, \u001b[94m0.5\u001b[39;49;00m),\n",
      "            np.array([[\n",
      "                \u001b[94m0.\u001b[39;49;00m, \u001b[94m1.358399\u001b[39;49;00m, \u001b[94m0.\u001b[39;49;00m, \u001b[94m1.384224\u001b[39;49;00m, \u001b[94m0.\u001b[39;49;00m, \u001b[94m0.\u001b[39;49;00m, \u001b[94m0.255451\u001b[39;49;00m, \u001b[94m0.077662\u001b[39;49;00m, \u001b[94m0.\u001b[39;49;00m,\n",
      "                \u001b[94m0.939582\u001b[39;49;00m, \u001b[94m0.525591\u001b[39;49;00m, \u001b[94m1.99213\u001b[39;49;00m, \u001b[94m0.\u001b[39;49;00m, \u001b[94m0.\u001b[39;49;00m, \u001b[94m1.012827\u001b[39;49;00m\n",
      "            ]],\n",
      "            dtype=np.float32),\n",
      "            rtol=\u001b[94m1e-5\u001b[39;49;00m,\n",
      "            atol=\u001b[94m1e-5\u001b[39;49;00m,\n",
      "        )\n",
      "\n",
      "\u001b[1m\u001b[31mtests/test_nn_and_optim.py\u001b[0m:1042: \n",
      "_ _ _ _ _ _ _ _ _ _ _ _ _ _ _ _ _ _ _ _ _ _ _ _ _ _ _ _ _ _ _ _ _ _ _ _ _ _ _ _ \n",
      "\u001b[1m\u001b[31mtests/test_nn_and_optim.py\u001b[0m:318: in residual_block_forward\n",
      "    output_tensor = ResidualBlock(dim, hidden_dim, norm, drop_prob)(input_tensor)\n",
      "\u001b[1m\u001b[31mpython/needle/nn.py\u001b[0m:78: in __call__\n",
      "    \u001b[94mreturn\u001b[39;49;00m \u001b[96mself\u001b[39;49;00m.forward(*args, **kwargs)\n",
      "\u001b[1m\u001b[31mpython/needle/nn.py\u001b[0m:134: in forward\n",
      "    out = module(out)\n",
      "\u001b[1m\u001b[31mpython/needle/nn.py\u001b[0m:78: in __call__\n",
      "    \u001b[94mreturn\u001b[39;49;00m \u001b[96mself\u001b[39;49;00m.forward(*args, **kwargs)\n",
      "\u001b[1m\u001b[31mpython/needle/nn.py\u001b[0m:219: in forward\n",
      "    \u001b[94mreturn\u001b[39;49;00m x + \u001b[96mself\u001b[39;49;00m.fn(x)\n",
      "\u001b[1m\u001b[31mpython/needle/nn.py\u001b[0m:78: in __call__\n",
      "    \u001b[94mreturn\u001b[39;49;00m \u001b[96mself\u001b[39;49;00m.forward(*args, **kwargs)\n",
      "\u001b[1m\u001b[31mpython/needle/nn.py\u001b[0m:134: in forward\n",
      "    out = module(out)\n",
      "\u001b[1m\u001b[31mpython/needle/nn.py\u001b[0m:78: in __call__\n",
      "    \u001b[94mreturn\u001b[39;49;00m \u001b[96mself\u001b[39;49;00m.forward(*args, **kwargs)\n",
      "\u001b[1m\u001b[31mpython/needle/nn.py\u001b[0m:194: in forward\n",
      "    \u001b[94mreturn\u001b[39;49;00m \u001b[96mself\u001b[39;49;00m.weight.broadcast_to(x.shape) * (x - mean) / deno + \u001b[96mself\u001b[39;49;00m.bias.broadcast_to(x.shape)\n",
      "\u001b[1m\u001b[31mpython/needle/autograd.py\u001b[0m:396: in broadcast_to\n",
      "    \u001b[94mreturn\u001b[39;49;00m needle.ops.BroadcastTo(shape)(\u001b[96mself\u001b[39;49;00m)\n",
      "\u001b[1m\u001b[31mpython/needle/autograd.py\u001b[0m:126: in __call__\n",
      "    \u001b[94mreturn\u001b[39;49;00m Tensor.make_from_op(\u001b[96mself\u001b[39;49;00m, args)\n",
      "\u001b[1m\u001b[31mpython/needle/autograd.py\u001b[0m:289: in make_from_op\n",
      "    tensor.realize_cached_data()\n",
      "\u001b[1m\u001b[31mpython/needle/autograd.py\u001b[0m:153: in realize_cached_data\n",
      "    \u001b[96mself\u001b[39;49;00m.cached_data = \u001b[96mself\u001b[39;49;00m.op.compute(\n",
      "\u001b[1m\u001b[31mpython/needle/ops.py\u001b[0m:177: in compute\n",
      "    \u001b[94mreturn\u001b[39;49;00m array_api.broadcast_to(a, \u001b[96mself\u001b[39;49;00m.shape)\n",
      "\u001b[1m\u001b[31m<__array_function__ internals>\u001b[0m:5: in broadcast_to\n",
      "    \u001b[04m\u001b[91m?\u001b[39;49;00m\u001b[04m\u001b[91m?\u001b[39;49;00m\u001b[04m\u001b[91m?\u001b[39;49;00m\n",
      "\u001b[1m\u001b[31m../../../Anaconda3/lib/python3.9/site-packages/numpy/lib/stride_tricks.py\u001b[0m:411: in broadcast_to\n",
      "    \u001b[94mreturn\u001b[39;49;00m _broadcast_to(array, shape, subok=subok, readonly=\u001b[94mTrue\u001b[39;49;00m)\n",
      "_ _ _ _ _ _ _ _ _ _ _ _ _ _ _ _ _ _ _ _ _ _ _ _ _ _ _ _ _ _ _ _ _ _ _ _ _ _ _ _ \n",
      "\n",
      "array = array([1., 1., 1., 1., 1., 1., 1., 1., 1., 1.], dtype=float32)\n",
      "shape = (1, 15), subok = False, readonly = True\n",
      "\n",
      "    \u001b[94mdef\u001b[39;49;00m \u001b[92m_broadcast_to\u001b[39;49;00m(array, shape, subok, readonly):\n",
      "        shape = \u001b[96mtuple\u001b[39;49;00m(shape) \u001b[94mif\u001b[39;49;00m np.iterable(shape) \u001b[94melse\u001b[39;49;00m (shape,)\n",
      "        array = np.array(array, copy=\u001b[94mFalse\u001b[39;49;00m, subok=subok)\n",
      "        \u001b[94mif\u001b[39;49;00m \u001b[95mnot\u001b[39;49;00m shape \u001b[95mand\u001b[39;49;00m array.shape:\n",
      "            \u001b[94mraise\u001b[39;49;00m \u001b[96mValueError\u001b[39;49;00m(\u001b[33m'\u001b[39;49;00m\u001b[33mcannot broadcast a non-scalar to a scalar array\u001b[39;49;00m\u001b[33m'\u001b[39;49;00m)\n",
      "        \u001b[94mif\u001b[39;49;00m \u001b[96many\u001b[39;49;00m(size < \u001b[94m0\u001b[39;49;00m \u001b[94mfor\u001b[39;49;00m size \u001b[95min\u001b[39;49;00m shape):\n",
      "            \u001b[94mraise\u001b[39;49;00m \u001b[96mValueError\u001b[39;49;00m(\u001b[33m'\u001b[39;49;00m\u001b[33mall elements of broadcast shape must be non-\u001b[39;49;00m\u001b[33m'\u001b[39;49;00m\n",
      "                             \u001b[33m'\u001b[39;49;00m\u001b[33mnegative\u001b[39;49;00m\u001b[33m'\u001b[39;49;00m)\n",
      "        extras = []\n",
      ">       it = np.nditer(\n",
      "            (array,), flags=[\u001b[33m'\u001b[39;49;00m\u001b[33mmulti_index\u001b[39;49;00m\u001b[33m'\u001b[39;49;00m, \u001b[33m'\u001b[39;49;00m\u001b[33mrefs_ok\u001b[39;49;00m\u001b[33m'\u001b[39;49;00m, \u001b[33m'\u001b[39;49;00m\u001b[33mzerosize_ok\u001b[39;49;00m\u001b[33m'\u001b[39;49;00m] + extras,\n",
      "            op_flags=[\u001b[33m'\u001b[39;49;00m\u001b[33mreadonly\u001b[39;49;00m\u001b[33m'\u001b[39;49;00m], itershape=shape, order=\u001b[33m'\u001b[39;49;00m\u001b[33mC\u001b[39;49;00m\u001b[33m'\u001b[39;49;00m)\n",
      "\u001b[1m\u001b[31mE       ValueError: operands could not be broadcast together with remapped shapes [original->remapped]: (10,)  and requested shape (1,15)\u001b[0m\n",
      "\n",
      "\u001b[1m\u001b[31m../../../Anaconda3/lib/python3.9/site-packages/numpy/lib/stride_tricks.py\u001b[0m:348: ValueError\n",
      "\u001b[31m\u001b[1m_________________________ test_mlp_resnet_num_params_1 _________________________\u001b[0m\n",
      "\n",
      "    \u001b[94mdef\u001b[39;49;00m \u001b[92mtest_mlp_resnet_num_params_1\u001b[39;49;00m():\n",
      ">       np.testing.assert_allclose(mlp_resnet_num_params(\u001b[94m150\u001b[39;49;00m, \u001b[94m100\u001b[39;49;00m, \u001b[94m5\u001b[39;49;00m, \u001b[94m10\u001b[39;49;00m, nn.LayerNorm1d),\n",
      "            np.array(\u001b[94m68360\u001b[39;49;00m), rtol=\u001b[94m1e-5\u001b[39;49;00m, atol=\u001b[94m1e-5\u001b[39;49;00m)\n",
      "\u001b[1m\u001b[31mE       AssertionError: \u001b[0m\n",
      "\u001b[1m\u001b[31mE       Not equal to tolerance rtol=1e-05, atol=1e-05\u001b[0m\n",
      "\u001b[1m\u001b[31mE       \u001b[0m\n",
      "\u001b[1m\u001b[31mE       Mismatched elements: 1 / 1 (100%)\u001b[0m\n",
      "\u001b[1m\u001b[31mE       Max absolute difference: 500\u001b[0m\n",
      "\u001b[1m\u001b[31mE       Max relative difference: 0.00731422\u001b[0m\n",
      "\u001b[1m\u001b[31mE        x: array(67860)\u001b[0m\n",
      "\u001b[1m\u001b[31mE        y: array(68360)\u001b[0m\n",
      "\n",
      "\u001b[1m\u001b[31mtests/test_nn_and_optim.py\u001b[0m:1053: AssertionError\n",
      "\u001b[31m\u001b[1m_________________________ test_mlp_resnet_num_params_2 _________________________\u001b[0m\n",
      "\n",
      "    \u001b[94mdef\u001b[39;49;00m \u001b[92mtest_mlp_resnet_num_params_2\u001b[39;49;00m():\n",
      ">       np.testing.assert_allclose(mlp_resnet_num_params(\u001b[94m10\u001b[39;49;00m, \u001b[94m100\u001b[39;49;00m, \u001b[94m1\u001b[39;49;00m, \u001b[94m100\u001b[39;49;00m, nn.BatchNorm1d),\n",
      "            np.array(\u001b[94m21650\u001b[39;49;00m), rtol=\u001b[94m1e-5\u001b[39;49;00m, atol=\u001b[94m1e-5\u001b[39;49;00m)\n",
      "\u001b[1m\u001b[31mE       AssertionError: \u001b[0m\n",
      "\u001b[1m\u001b[31mE       Not equal to tolerance rtol=1e-05, atol=1e-05\u001b[0m\n",
      "\u001b[1m\u001b[31mE       \u001b[0m\n",
      "\u001b[1m\u001b[31mE       Mismatched elements: 1 / 1 (100%)\u001b[0m\n",
      "\u001b[1m\u001b[31mE       Max absolute difference: 100\u001b[0m\n",
      "\u001b[1m\u001b[31mE       Max relative difference: 0.00461894\u001b[0m\n",
      "\u001b[1m\u001b[31mE        x: array(21550)\u001b[0m\n",
      "\u001b[1m\u001b[31mE        y: array(21650)\u001b[0m\n",
      "\n",
      "\u001b[1m\u001b[31mtests/test_nn_and_optim.py\u001b[0m:1057: AssertionError\n",
      "\u001b[31m\u001b[1m__________________________ test_mlp_resnet_forward_1 ___________________________\u001b[0m\n",
      "\n",
      "    \u001b[94mdef\u001b[39;49;00m \u001b[92mtest_mlp_resnet_forward_1\u001b[39;49;00m():\n",
      "        np.testing.assert_allclose(\n",
      ">           mlp_resnet_forward(\u001b[94m10\u001b[39;49;00m, \u001b[94m5\u001b[39;49;00m, \u001b[94m2\u001b[39;49;00m, \u001b[94m5\u001b[39;49;00m, nn.LayerNorm1d, \u001b[94m0.5\u001b[39;49;00m),\n",
      "            np.array([[\u001b[94m3.046162\u001b[39;49;00m, \u001b[94m1.44972\u001b[39;49;00m, -\u001b[94m1.921363\u001b[39;49;00m, \u001b[94m0.021816\u001b[39;49;00m, -\u001b[94m0.433953\u001b[39;49;00m],\n",
      "                      [\u001b[94m3.489114\u001b[39;49;00m, \u001b[94m1.820994\u001b[39;49;00m, -\u001b[94m2.111306\u001b[39;49;00m, \u001b[94m0.226388\u001b[39;49;00m, -\u001b[94m1.029428\u001b[39;49;00m]],\n",
      "                     dtype=np.float32),\n",
      "            rtol=\u001b[94m1e-5\u001b[39;49;00m,\n",
      "            atol=\u001b[94m1e-5\u001b[39;49;00m)\n",
      "\n",
      "\u001b[1m\u001b[31mtests/test_nn_and_optim.py\u001b[0m:1062: \n",
      "_ _ _ _ _ _ _ _ _ _ _ _ _ _ _ _ _ _ _ _ _ _ _ _ _ _ _ _ _ _ _ _ _ _ _ _ _ _ _ _ \n",
      "\u001b[1m\u001b[31mtests/test_nn_and_optim.py\u001b[0m:328: in mlp_resnet_forward\n",
      "    output_tensor = MLPResNet(dim, hidden_dim, num_blocks, num_classes, norm, drop_prob)(input_tensor)\n",
      "\u001b[1m\u001b[31mpython/needle/nn.py\u001b[0m:78: in __call__\n",
      "    \u001b[94mreturn\u001b[39;49;00m \u001b[96mself\u001b[39;49;00m.forward(*args, **kwargs)\n",
      "\u001b[1m\u001b[31mpython/needle/nn.py\u001b[0m:134: in forward\n",
      "    out = module(out)\n",
      "\u001b[1m\u001b[31mpython/needle/nn.py\u001b[0m:78: in __call__\n",
      "    \u001b[94mreturn\u001b[39;49;00m \u001b[96mself\u001b[39;49;00m.forward(*args, **kwargs)\n",
      "\u001b[1m\u001b[31mpython/needle/nn.py\u001b[0m:134: in forward\n",
      "    out = module(out)\n",
      "\u001b[1m\u001b[31mpython/needle/nn.py\u001b[0m:78: in __call__\n",
      "    \u001b[94mreturn\u001b[39;49;00m \u001b[96mself\u001b[39;49;00m.forward(*args, **kwargs)\n",
      "\u001b[1m\u001b[31mpython/needle/nn.py\u001b[0m:219: in forward\n",
      "    \u001b[94mreturn\u001b[39;49;00m x + \u001b[96mself\u001b[39;49;00m.fn(x)\n",
      "\u001b[1m\u001b[31mpython/needle/nn.py\u001b[0m:78: in __call__\n",
      "    \u001b[94mreturn\u001b[39;49;00m \u001b[96mself\u001b[39;49;00m.forward(*args, **kwargs)\n",
      "\u001b[1m\u001b[31mpython/needle/nn.py\u001b[0m:134: in forward\n",
      "    out = module(out)\n",
      "\u001b[1m\u001b[31mpython/needle/nn.py\u001b[0m:78: in __call__\n",
      "    \u001b[94mreturn\u001b[39;49;00m \u001b[96mself\u001b[39;49;00m.forward(*args, **kwargs)\n",
      "\u001b[1m\u001b[31mpython/needle/nn.py\u001b[0m:194: in forward\n",
      "    \u001b[94mreturn\u001b[39;49;00m \u001b[96mself\u001b[39;49;00m.weight.broadcast_to(x.shape) * (x - mean) / deno + \u001b[96mself\u001b[39;49;00m.bias.broadcast_to(x.shape)\n",
      "\u001b[1m\u001b[31mpython/needle/autograd.py\u001b[0m:396: in broadcast_to\n",
      "    \u001b[94mreturn\u001b[39;49;00m needle.ops.BroadcastTo(shape)(\u001b[96mself\u001b[39;49;00m)\n",
      "\u001b[1m\u001b[31mpython/needle/autograd.py\u001b[0m:126: in __call__\n",
      "    \u001b[94mreturn\u001b[39;49;00m Tensor.make_from_op(\u001b[96mself\u001b[39;49;00m, args)\n",
      "\u001b[1m\u001b[31mpython/needle/autograd.py\u001b[0m:289: in make_from_op\n",
      "    tensor.realize_cached_data()\n",
      "\u001b[1m\u001b[31mpython/needle/autograd.py\u001b[0m:153: in realize_cached_data\n",
      "    \u001b[96mself\u001b[39;49;00m.cached_data = \u001b[96mself\u001b[39;49;00m.op.compute(\n",
      "\u001b[1m\u001b[31mpython/needle/ops.py\u001b[0m:177: in compute\n",
      "    \u001b[94mreturn\u001b[39;49;00m array_api.broadcast_to(a, \u001b[96mself\u001b[39;49;00m.shape)\n",
      "\u001b[1m\u001b[31m<__array_function__ internals>\u001b[0m:5: in broadcast_to\n",
      "    \u001b[04m\u001b[91m?\u001b[39;49;00m\u001b[04m\u001b[91m?\u001b[39;49;00m\u001b[04m\u001b[91m?\u001b[39;49;00m\n",
      "\u001b[1m\u001b[31m../../../Anaconda3/lib/python3.9/site-packages/numpy/lib/stride_tricks.py\u001b[0m:411: in broadcast_to\n",
      "    \u001b[94mreturn\u001b[39;49;00m _broadcast_to(array, shape, subok=subok, readonly=\u001b[94mTrue\u001b[39;49;00m)\n",
      "_ _ _ _ _ _ _ _ _ _ _ _ _ _ _ _ _ _ _ _ _ _ _ _ _ _ _ _ _ _ _ _ _ _ _ _ _ _ _ _ \n",
      "\n",
      "array = array([1., 1.], dtype=float32), shape = (2, 5), subok = False\n",
      "readonly = True\n",
      "\n",
      "    \u001b[94mdef\u001b[39;49;00m \u001b[92m_broadcast_to\u001b[39;49;00m(array, shape, subok, readonly):\n",
      "        shape = \u001b[96mtuple\u001b[39;49;00m(shape) \u001b[94mif\u001b[39;49;00m np.iterable(shape) \u001b[94melse\u001b[39;49;00m (shape,)\n",
      "        array = np.array(array, copy=\u001b[94mFalse\u001b[39;49;00m, subok=subok)\n",
      "        \u001b[94mif\u001b[39;49;00m \u001b[95mnot\u001b[39;49;00m shape \u001b[95mand\u001b[39;49;00m array.shape:\n",
      "            \u001b[94mraise\u001b[39;49;00m \u001b[96mValueError\u001b[39;49;00m(\u001b[33m'\u001b[39;49;00m\u001b[33mcannot broadcast a non-scalar to a scalar array\u001b[39;49;00m\u001b[33m'\u001b[39;49;00m)\n",
      "        \u001b[94mif\u001b[39;49;00m \u001b[96many\u001b[39;49;00m(size < \u001b[94m0\u001b[39;49;00m \u001b[94mfor\u001b[39;49;00m size \u001b[95min\u001b[39;49;00m shape):\n",
      "            \u001b[94mraise\u001b[39;49;00m \u001b[96mValueError\u001b[39;49;00m(\u001b[33m'\u001b[39;49;00m\u001b[33mall elements of broadcast shape must be non-\u001b[39;49;00m\u001b[33m'\u001b[39;49;00m\n",
      "                             \u001b[33m'\u001b[39;49;00m\u001b[33mnegative\u001b[39;49;00m\u001b[33m'\u001b[39;49;00m)\n",
      "        extras = []\n",
      ">       it = np.nditer(\n",
      "            (array,), flags=[\u001b[33m'\u001b[39;49;00m\u001b[33mmulti_index\u001b[39;49;00m\u001b[33m'\u001b[39;49;00m, \u001b[33m'\u001b[39;49;00m\u001b[33mrefs_ok\u001b[39;49;00m\u001b[33m'\u001b[39;49;00m, \u001b[33m'\u001b[39;49;00m\u001b[33mzerosize_ok\u001b[39;49;00m\u001b[33m'\u001b[39;49;00m] + extras,\n",
      "            op_flags=[\u001b[33m'\u001b[39;49;00m\u001b[33mreadonly\u001b[39;49;00m\u001b[33m'\u001b[39;49;00m], itershape=shape, order=\u001b[33m'\u001b[39;49;00m\u001b[33mC\u001b[39;49;00m\u001b[33m'\u001b[39;49;00m)\n",
      "\u001b[1m\u001b[31mE       ValueError: operands could not be broadcast together with remapped shapes [original->remapped]: (2,)  and requested shape (2,5)\u001b[0m\n",
      "\n",
      "\u001b[1m\u001b[31m../../../Anaconda3/lib/python3.9/site-packages/numpy/lib/stride_tricks.py\u001b[0m:348: ValueError\n",
      "\u001b[31m\u001b[1m__________________________ test_mlp_resnet_forward_2 ___________________________\u001b[0m\n",
      "\n",
      "    \u001b[94mdef\u001b[39;49;00m \u001b[92mtest_mlp_resnet_forward_2\u001b[39;49;00m():\n",
      "        np.testing.assert_allclose(\n",
      ">           mlp_resnet_forward(\u001b[94m15\u001b[39;49;00m, \u001b[94m25\u001b[39;49;00m, \u001b[94m5\u001b[39;49;00m, \u001b[94m14\u001b[39;49;00m, nn.BatchNorm1d, \u001b[94m0.0\u001b[39;49;00m),\n",
      "            np.array([[\n",
      "                \u001b[94m0.92448235\u001b[39;49;00m, -\u001b[94m2.745743\u001b[39;49;00m, -\u001b[94m1.5077105\u001b[39;49;00m, \u001b[94m1.130784\u001b[39;49;00m, -\u001b[94m1.2078242\u001b[39;49;00m,\n",
      "                -\u001b[94m0.09833566\u001b[39;49;00m, -\u001b[94m0.69301605\u001b[39;49;00m, \u001b[94m2.8945382\u001b[39;49;00m, \u001b[94m1.259397\u001b[39;49;00m, \u001b[94m0.13866742\u001b[39;49;00m,\n",
      "                -\u001b[94m2.963875\u001b[39;49;00m, -\u001b[94m4.8566914\u001b[39;49;00m, \u001b[94m1.7062538\u001b[39;49;00m, -\u001b[94m4.846424\u001b[39;49;00m\n",
      "            ],\n",
      "            [\n",
      "                \u001b[94m0.6653336\u001b[39;49;00m, -\u001b[94m2.4708004\u001b[39;49;00m, \u001b[94m2.0572243\u001b[39;49;00m, -\u001b[94m1.0791507\u001b[39;49;00m, \u001b[94m4.3489094\u001b[39;49;00m,\n",
      "                \u001b[94m3.1086435\u001b[39;49;00m, \u001b[94m0.0304327\u001b[39;49;00m, -\u001b[94m1.9227124\u001b[39;49;00m, -\u001b[94m1.416201\u001b[39;49;00m, -\u001b[94m7.2151937\u001b[39;49;00m,\n",
      "                -\u001b[94m1.4858506\u001b[39;49;00m, \u001b[94m7.1039696\u001b[39;49;00m, -\u001b[94m2.1589825\u001b[39;49;00m, -\u001b[94m0.7593413\u001b[39;49;00m\n",
      "            ]],\n",
      "            dtype=np.float32),\n",
      "            rtol=\u001b[94m1e-5\u001b[39;49;00m,\n",
      "            atol=\u001b[94m1e-5\u001b[39;49;00m)\n",
      "\n",
      "\u001b[1m\u001b[31mtests/test_nn_and_optim.py\u001b[0m:1071: \n",
      "_ _ _ _ _ _ _ _ _ _ _ _ _ _ _ _ _ _ _ _ _ _ _ _ _ _ _ _ _ _ _ _ _ _ _ _ _ _ _ _ \n",
      "\u001b[1m\u001b[31mtests/test_nn_and_optim.py\u001b[0m:328: in mlp_resnet_forward\n",
      "    output_tensor = MLPResNet(dim, hidden_dim, num_blocks, num_classes, norm, drop_prob)(input_tensor)\n",
      "\u001b[1m\u001b[31mpython/needle/nn.py\u001b[0m:78: in __call__\n",
      "    \u001b[94mreturn\u001b[39;49;00m \u001b[96mself\u001b[39;49;00m.forward(*args, **kwargs)\n",
      "\u001b[1m\u001b[31mpython/needle/nn.py\u001b[0m:134: in forward\n",
      "    out = module(out)\n",
      "\u001b[1m\u001b[31mpython/needle/nn.py\u001b[0m:78: in __call__\n",
      "    \u001b[94mreturn\u001b[39;49;00m \u001b[96mself\u001b[39;49;00m.forward(*args, **kwargs)\n",
      "\u001b[1m\u001b[31mpython/needle/nn.py\u001b[0m:134: in forward\n",
      "    out = module(out)\n",
      "\u001b[1m\u001b[31mpython/needle/nn.py\u001b[0m:78: in __call__\n",
      "    \u001b[94mreturn\u001b[39;49;00m \u001b[96mself\u001b[39;49;00m.forward(*args, **kwargs)\n"
     ]
    },
    {
     "name": "stdout",
     "output_type": "stream",
     "text": [
      "\u001b[1m\u001b[31mpython/needle/nn.py\u001b[0m:219: in forward\r\n",
      "    \u001b[94mreturn\u001b[39;49;00m x + \u001b[96mself\u001b[39;49;00m.fn(x)\r\n",
      "\u001b[1m\u001b[31mpython/needle/nn.py\u001b[0m:78: in __call__\r\n",
      "    \u001b[94mreturn\u001b[39;49;00m \u001b[96mself\u001b[39;49;00m.forward(*args, **kwargs)\r\n",
      "\u001b[1m\u001b[31mpython/needle/nn.py\u001b[0m:134: in forward\r\n",
      "    out = module(out)\r\n",
      "\u001b[1m\u001b[31mpython/needle/nn.py\u001b[0m:78: in __call__\r\n",
      "    \u001b[94mreturn\u001b[39;49;00m \u001b[96mself\u001b[39;49;00m.forward(*args, **kwargs)\r\n",
      "\u001b[1m\u001b[31mpython/needle/nn.py\u001b[0m:172: in forward\r\n",
      "    \u001b[96mself\u001b[39;49;00m.running_mean = (\u001b[94m1\u001b[39;49;00m - \u001b[96mself\u001b[39;49;00m.momentum) * \u001b[96mself\u001b[39;49;00m.running_mean + \u001b[96mself\u001b[39;49;00m.momentum * batch_mean.data\r\n",
      "\u001b[1m\u001b[31mpython/needle/autograd.py\u001b[0m:356: in __add__\r\n",
      "    \u001b[94mreturn\u001b[39;49;00m needle.ops.EWiseAdd()(\u001b[96mself\u001b[39;49;00m, other)\r\n",
      "\u001b[1m\u001b[31mpython/needle/autograd.py\u001b[0m:126: in __call__\r\n",
      "    \u001b[94mreturn\u001b[39;49;00m Tensor.make_from_op(\u001b[96mself\u001b[39;49;00m, args)\r\n",
      "\u001b[1m\u001b[31mpython/needle/autograd.py\u001b[0m:288: in make_from_op\r\n",
      "    \u001b[94mreturn\u001b[39;49;00m tensor.detach()\r\n",
      "\u001b[1m\u001b[31mpython/needle/autograd.py\u001b[0m:320: in detach\r\n",
      "    \u001b[94mreturn\u001b[39;49;00m Tensor.make_const(\u001b[96mself\u001b[39;49;00m.realize_cached_data())\r\n",
      "\u001b[1m\u001b[31mpython/needle/autograd.py\u001b[0m:153: in realize_cached_data\r\n",
      "    \u001b[96mself\u001b[39;49;00m.cached_data = \u001b[96mself\u001b[39;49;00m.op.compute(\r\n",
      "_ _ _ _ _ _ _ _ _ _ _ _ _ _ _ _ _ _ _ _ _ _ _ _ _ _ _ _ _ _ _ _ _ _ _ _ _ _ _ _ \r\n",
      "\r\n",
      "self = <needle.ops.EWiseAdd object at 0x7fd9feec6460>\r\n",
      "a = array([0., 0., 0., 0., 0., 0., 0., 0., 0., 0., 0., 0.], dtype=float32)\r\n",
      "b = array([-0.12808034, -0.00636477,  0.00269054,  0.02501354, -0.01822544,\r\n",
      "       -0.02589616,  0.03716614, -0.03805809, ... 0.03619485,  0.02971664,\r\n",
      "        0.06615012, -0.01696747,  0.00440015, -0.02571259, -0.02951497],\r\n",
      "      dtype=float32)\r\n",
      "\r\n",
      "    \u001b[94mdef\u001b[39;49;00m \u001b[92mcompute\u001b[39;49;00m(\u001b[96mself\u001b[39;49;00m, a: NDArray, b: NDArray):\r\n",
      ">       \u001b[94mreturn\u001b[39;49;00m a + b\r\n",
      "\u001b[1m\u001b[31mE       ValueError: operands could not be broadcast together with shapes (12,) (25,)\u001b[0m\r\n",
      "\r\n",
      "\u001b[1m\u001b[31mpython/needle/ops.py\u001b[0m:17: ValueError\r\n",
      "\u001b[31m\u001b[1m____________________________ test_mlp_train_epoch_1 ____________________________\u001b[0m\r\n",
      "\r\n",
      "    \u001b[94mdef\u001b[39;49;00m \u001b[92mtest_mlp_train_epoch_1\u001b[39;49;00m():\r\n",
      ">       np.testing.assert_allclose(train_epoch_1(\u001b[94m5\u001b[39;49;00m, \u001b[94m250\u001b[39;49;00m, ndl.optim.Adam, lr=\u001b[94m0.01\u001b[39;49;00m, weight_decay=\u001b[94m0.1\u001b[39;49;00m),\r\n",
      "            np.array([\u001b[94m0.675267\u001b[39;49;00m, \u001b[94m1.84043\u001b[39;49;00m]), rtol=\u001b[94m0.0001\u001b[39;49;00m, atol=\u001b[94m0.0001\u001b[39;49;00m)\r\n",
      "\r\n",
      "\u001b[1m\u001b[31mtests/test_nn_and_optim.py\u001b[0m:1087: \r\n",
      "_ _ _ _ _ _ _ _ _ _ _ _ _ _ _ _ _ _ _ _ _ _ _ _ _ _ _ _ _ _ _ _ _ _ _ _ _ _ _ _ \r\n",
      "\u001b[1m\u001b[31mtests/test_nn_and_optim.py\u001b[0m:343: in train_epoch_1\r\n",
      "    \u001b[94mreturn\u001b[39;49;00m np.array(epoch(train_dataloader, model, opt))\r\n",
      "\u001b[1m\u001b[31mapps/mlp_resnet.py\u001b[0m:49: in epoch\r\n",
      "    logits = model(X)\r\n",
      "\u001b[1m\u001b[31mpython/needle/nn.py\u001b[0m:78: in __call__\r\n",
      "    \u001b[94mreturn\u001b[39;49;00m \u001b[96mself\u001b[39;49;00m.forward(*args, **kwargs)\r\n",
      "\u001b[1m\u001b[31mpython/needle/nn.py\u001b[0m:134: in forward\r\n",
      "    out = module(out)\r\n",
      "\u001b[1m\u001b[31mpython/needle/nn.py\u001b[0m:78: in __call__\r\n",
      "    \u001b[94mreturn\u001b[39;49;00m \u001b[96mself\u001b[39;49;00m.forward(*args, **kwargs)\r\n",
      "\u001b[1m\u001b[31mpython/needle/nn.py\u001b[0m:134: in forward\r\n",
      "    out = module(out)\r\n",
      "\u001b[1m\u001b[31mpython/needle/nn.py\u001b[0m:78: in __call__\r\n",
      "    \u001b[94mreturn\u001b[39;49;00m \u001b[96mself\u001b[39;49;00m.forward(*args, **kwargs)\r\n",
      "\u001b[1m\u001b[31mpython/needle/nn.py\u001b[0m:219: in forward\r\n",
      "    \u001b[94mreturn\u001b[39;49;00m x + \u001b[96mself\u001b[39;49;00m.fn(x)\r\n",
      "\u001b[1m\u001b[31mpython/needle/nn.py\u001b[0m:78: in __call__\r\n",
      "    \u001b[94mreturn\u001b[39;49;00m \u001b[96mself\u001b[39;49;00m.forward(*args, **kwargs)\r\n",
      "\u001b[1m\u001b[31mpython/needle/nn.py\u001b[0m:134: in forward\r\n",
      "    out = module(out)\r\n",
      "\u001b[1m\u001b[31mpython/needle/nn.py\u001b[0m:78: in __call__\r\n",
      "    \u001b[94mreturn\u001b[39;49;00m \u001b[96mself\u001b[39;49;00m.forward(*args, **kwargs)\r\n",
      "\u001b[1m\u001b[31mpython/needle/nn.py\u001b[0m:172: in forward\r\n",
      "    \u001b[96mself\u001b[39;49;00m.running_mean = (\u001b[94m1\u001b[39;49;00m - \u001b[96mself\u001b[39;49;00m.momentum) * \u001b[96mself\u001b[39;49;00m.running_mean + \u001b[96mself\u001b[39;49;00m.momentum * batch_mean.data\r\n",
      "\u001b[1m\u001b[31mpython/needle/autograd.py\u001b[0m:356: in __add__\r\n",
      "    \u001b[94mreturn\u001b[39;49;00m needle.ops.EWiseAdd()(\u001b[96mself\u001b[39;49;00m, other)\r\n",
      "\u001b[1m\u001b[31mpython/needle/autograd.py\u001b[0m:126: in __call__\r\n",
      "    \u001b[94mreturn\u001b[39;49;00m Tensor.make_from_op(\u001b[96mself\u001b[39;49;00m, args)\r\n",
      "\u001b[1m\u001b[31mpython/needle/autograd.py\u001b[0m:288: in make_from_op\r\n",
      "    \u001b[94mreturn\u001b[39;49;00m tensor.detach()\r\n",
      "\u001b[1m\u001b[31mpython/needle/autograd.py\u001b[0m:320: in detach\r\n",
      "    \u001b[94mreturn\u001b[39;49;00m Tensor.make_const(\u001b[96mself\u001b[39;49;00m.realize_cached_data())\r\n",
      "\u001b[1m\u001b[31mpython/needle/autograd.py\u001b[0m:153: in realize_cached_data\r\n",
      "    \u001b[96mself\u001b[39;49;00m.cached_data = \u001b[96mself\u001b[39;49;00m.op.compute(\r\n",
      "_ _ _ _ _ _ _ _ _ _ _ _ _ _ _ _ _ _ _ _ _ _ _ _ _ _ _ _ _ _ _ _ _ _ _ _ _ _ _ _ \r\n",
      "\r\n",
      "self = <needle.ops.EWiseAdd object at 0x7fd9fed47c10>\r\n",
      "a = array([0., 0.], dtype=float32)\r\n",
      "b = array([ 0.11638457, -0.04286614, -0.01238113,  0.06456431,  0.07584342],\r\n",
      "      dtype=float32)\r\n",
      "\r\n",
      "    \u001b[94mdef\u001b[39;49;00m \u001b[92mcompute\u001b[39;49;00m(\u001b[96mself\u001b[39;49;00m, a: NDArray, b: NDArray):\r\n",
      ">       \u001b[94mreturn\u001b[39;49;00m a + b\r\n",
      "\u001b[1m\u001b[31mE       ValueError: operands could not be broadcast together with shapes (2,) (5,)\u001b[0m\r\n",
      "\r\n",
      "\u001b[1m\u001b[31mpython/needle/ops.py\u001b[0m:17: ValueError\r\n",
      "\u001b[31m\u001b[1m____________________________ test_mlp_eval_epoch_1 _____________________________\u001b[0m\r\n",
      "\r\n",
      "    \u001b[94mdef\u001b[39;49;00m \u001b[92mtest_mlp_eval_epoch_1\u001b[39;49;00m():\r\n",
      ">       np.testing.assert_allclose(eval_epoch_1(\u001b[94m10\u001b[39;49;00m, \u001b[94m150\u001b[39;49;00m),\r\n",
      "            np.array([\u001b[94m0.9164\u001b[39;49;00m , \u001b[94m4.137814\u001b[39;49;00m]), rtol=\u001b[94m1e-5\u001b[39;49;00m, atol=\u001b[94m1e-5\u001b[39;49;00m)\r\n",
      "\r\n",
      "\u001b[1m\u001b[31mtests/test_nn_and_optim.py\u001b[0m:1091: \r\n",
      "_ _ _ _ _ _ _ _ _ _ _ _ _ _ _ _ _ _ _ _ _ _ _ _ _ _ _ _ _ _ _ _ _ _ _ _ _ _ _ _ \r\n",
      "\u001b[1m\u001b[31mtests/test_nn_and_optim.py\u001b[0m:357: in eval_epoch_1\r\n",
      "    \u001b[94mreturn\u001b[39;49;00m np.array(epoch(test_dataloader, model))\r\n",
      "\u001b[1m\u001b[31mapps/mlp_resnet.py\u001b[0m:49: in epoch\r\n",
      "    logits = model(X)\r\n",
      "\u001b[1m\u001b[31mpython/needle/nn.py\u001b[0m:78: in __call__\r\n",
      "    \u001b[94mreturn\u001b[39;49;00m \u001b[96mself\u001b[39;49;00m.forward(*args, **kwargs)\r\n",
      "\u001b[1m\u001b[31mpython/needle/nn.py\u001b[0m:134: in forward\r\n",
      "    out = module(out)\r\n",
      "\u001b[1m\u001b[31mpython/needle/nn.py\u001b[0m:78: in __call__\r\n",
      "    \u001b[94mreturn\u001b[39;49;00m \u001b[96mself\u001b[39;49;00m.forward(*args, **kwargs)\r\n",
      "\u001b[1m\u001b[31mpython/needle/nn.py\u001b[0m:134: in forward\r\n",
      "    out = module(out)\r\n",
      "\u001b[1m\u001b[31mpython/needle/nn.py\u001b[0m:78: in __call__\r\n",
      "    \u001b[94mreturn\u001b[39;49;00m \u001b[96mself\u001b[39;49;00m.forward(*args, **kwargs)\r\n",
      "\u001b[1m\u001b[31mpython/needle/nn.py\u001b[0m:219: in forward\r\n",
      "    \u001b[94mreturn\u001b[39;49;00m x + \u001b[96mself\u001b[39;49;00m.fn(x)\r\n",
      "\u001b[1m\u001b[31mpython/needle/nn.py\u001b[0m:78: in __call__\r\n",
      "    \u001b[94mreturn\u001b[39;49;00m \u001b[96mself\u001b[39;49;00m.forward(*args, **kwargs)\r\n",
      "\u001b[1m\u001b[31mpython/needle/nn.py\u001b[0m:134: in forward\r\n",
      "    out = module(out)\r\n",
      "\u001b[1m\u001b[31mpython/needle/nn.py\u001b[0m:78: in __call__\r\n",
      "    \u001b[94mreturn\u001b[39;49;00m \u001b[96mself\u001b[39;49;00m.forward(*args, **kwargs)\r\n",
      "\u001b[1m\u001b[31mpython/needle/nn.py\u001b[0m:167: in forward\r\n",
      "    norm = (x - \u001b[96mself\u001b[39;49;00m.running_mean.broadcast_to(x.shape)) / (\u001b[96mself\u001b[39;49;00m.running_var.broadcast_to(x.shape) + \u001b[96mself\u001b[39;49;00m.eps)**\u001b[94m0.5\u001b[39;49;00m\r\n",
      "\u001b[1m\u001b[31mpython/needle/autograd.py\u001b[0m:396: in broadcast_to\r\n",
      "    \u001b[94mreturn\u001b[39;49;00m needle.ops.BroadcastTo(shape)(\u001b[96mself\u001b[39;49;00m)\r\n",
      "\u001b[1m\u001b[31mpython/needle/autograd.py\u001b[0m:126: in __call__\r\n",
      "    \u001b[94mreturn\u001b[39;49;00m Tensor.make_from_op(\u001b[96mself\u001b[39;49;00m, args)\r\n",
      "\u001b[1m\u001b[31mpython/needle/autograd.py\u001b[0m:288: in make_from_op\r\n",
      "    \u001b[94mreturn\u001b[39;49;00m tensor.detach()\r\n",
      "\u001b[1m\u001b[31mpython/needle/autograd.py\u001b[0m:320: in detach\r\n",
      "    \u001b[94mreturn\u001b[39;49;00m Tensor.make_const(\u001b[96mself\u001b[39;49;00m.realize_cached_data())\r\n",
      "\u001b[1m\u001b[31mpython/needle/autograd.py\u001b[0m:153: in realize_cached_data\r\n",
      "    \u001b[96mself\u001b[39;49;00m.cached_data = \u001b[96mself\u001b[39;49;00m.op.compute(\r\n",
      "\u001b[1m\u001b[31mpython/needle/ops.py\u001b[0m:177: in compute\r\n",
      "    \u001b[94mreturn\u001b[39;49;00m array_api.broadcast_to(a, \u001b[96mself\u001b[39;49;00m.shape)\r\n",
      "\u001b[1m\u001b[31m<__array_function__ internals>\u001b[0m:5: in broadcast_to\r\n",
      "    \u001b[04m\u001b[91m?\u001b[39;49;00m\u001b[04m\u001b[91m?\u001b[39;49;00m\u001b[04m\u001b[91m?\u001b[39;49;00m\r\n",
      "\u001b[1m\u001b[31m../../../Anaconda3/lib/python3.9/site-packages/numpy/lib/stride_tricks.py\u001b[0m:411: in broadcast_to\r\n",
      "    \u001b[94mreturn\u001b[39;49;00m _broadcast_to(array, shape, subok=subok, readonly=\u001b[94mTrue\u001b[39;49;00m)\r\n",
      "_ _ _ _ _ _ _ _ _ _ _ _ _ _ _ _ _ _ _ _ _ _ _ _ _ _ _ _ _ _ _ _ _ _ _ _ _ _ _ _ \r\n",
      "\r\n",
      "array = array([0., 0., 0., 0., 0.], dtype=float32), shape = (150, 10)\r\n",
      "subok = False, readonly = True\r\n",
      "\r\n",
      "    \u001b[94mdef\u001b[39;49;00m \u001b[92m_broadcast_to\u001b[39;49;00m(array, shape, subok, readonly):\r\n",
      "        shape = \u001b[96mtuple\u001b[39;49;00m(shape) \u001b[94mif\u001b[39;49;00m np.iterable(shape) \u001b[94melse\u001b[39;49;00m (shape,)\r\n",
      "        array = np.array(array, copy=\u001b[94mFalse\u001b[39;49;00m, subok=subok)\r\n",
      "        \u001b[94mif\u001b[39;49;00m \u001b[95mnot\u001b[39;49;00m shape \u001b[95mand\u001b[39;49;00m array.shape:\r\n",
      "            \u001b[94mraise\u001b[39;49;00m \u001b[96mValueError\u001b[39;49;00m(\u001b[33m'\u001b[39;49;00m\u001b[33mcannot broadcast a non-scalar to a scalar array\u001b[39;49;00m\u001b[33m'\u001b[39;49;00m)\r\n",
      "        \u001b[94mif\u001b[39;49;00m \u001b[96many\u001b[39;49;00m(size < \u001b[94m0\u001b[39;49;00m \u001b[94mfor\u001b[39;49;00m size \u001b[95min\u001b[39;49;00m shape):\r\n",
      "            \u001b[94mraise\u001b[39;49;00m \u001b[96mValueError\u001b[39;49;00m(\u001b[33m'\u001b[39;49;00m\u001b[33mall elements of broadcast shape must be non-\u001b[39;49;00m\u001b[33m'\u001b[39;49;00m\r\n",
      "                             \u001b[33m'\u001b[39;49;00m\u001b[33mnegative\u001b[39;49;00m\u001b[33m'\u001b[39;49;00m)\r\n",
      "        extras = []\r\n",
      ">       it = np.nditer(\r\n",
      "            (array,), flags=[\u001b[33m'\u001b[39;49;00m\u001b[33mmulti_index\u001b[39;49;00m\u001b[33m'\u001b[39;49;00m, \u001b[33m'\u001b[39;49;00m\u001b[33mrefs_ok\u001b[39;49;00m\u001b[33m'\u001b[39;49;00m, \u001b[33m'\u001b[39;49;00m\u001b[33mzerosize_ok\u001b[39;49;00m\u001b[33m'\u001b[39;49;00m] + extras,\r\n",
      "            op_flags=[\u001b[33m'\u001b[39;49;00m\u001b[33mreadonly\u001b[39;49;00m\u001b[33m'\u001b[39;49;00m], itershape=shape, order=\u001b[33m'\u001b[39;49;00m\u001b[33mC\u001b[39;49;00m\u001b[33m'\u001b[39;49;00m)\r\n",
      "\u001b[1m\u001b[31mE       ValueError: operands could not be broadcast together with remapped shapes [original->remapped]: (5,)  and requested shape (150,10)\u001b[0m\r\n",
      "\r\n",
      "\u001b[1m\u001b[31m../../../Anaconda3/lib/python3.9/site-packages/numpy/lib/stride_tricks.py\u001b[0m:348: ValueError\r\n",
      "\u001b[31m\u001b[1m____________________________ test_mlp_train_mnist_1 ____________________________\u001b[0m\r\n",
      "\r\n",
      "    \u001b[94mdef\u001b[39;49;00m \u001b[92mtest_mlp_train_mnist_1\u001b[39;49;00m():\r\n",
      ">       np.testing.assert_allclose(train_mnist_1(\u001b[94m250\u001b[39;49;00m, \u001b[94m2\u001b[39;49;00m, ndl.optim.SGD, \u001b[94m0.001\u001b[39;49;00m, \u001b[94m0.01\u001b[39;49;00m, \u001b[94m100\u001b[39;49;00m),\r\n",
      "            np.array([\u001b[94m0.4875\u001b[39;49;00m , \u001b[94m1.462595\u001b[39;49;00m, \u001b[94m0.3245\u001b[39;49;00m , \u001b[94m1.049429\u001b[39;49;00m]), rtol=\u001b[94m0.001\u001b[39;49;00m, atol=\u001b[94m0.001\u001b[39;49;00m)\r\n",
      "\r\n",
      "\u001b[1m\u001b[31mtests/test_nn_and_optim.py\u001b[0m:1095: \r\n",
      "_ _ _ _ _ _ _ _ _ _ _ _ _ _ _ _ _ _ _ _ _ _ _ _ _ _ _ _ _ _ _ _ _ _ _ _ _ _ _ _ \r\n",
      "\u001b[1m\u001b[31mtests/test_nn_and_optim.py\u001b[0m:361: in train_mnist_1\r\n",
      "    out = train_mnist(batch_size, epochs, optimizer, lr, weight_decay, hidden_dim, data_dir=\u001b[33m\"\u001b[39;49;00m\u001b[33m./data\u001b[39;49;00m\u001b[33m\"\u001b[39;49;00m)\r\n",
      "\u001b[1m\u001b[31mapps/mlp_resnet.py\u001b[0m:77: in train_mnist\r\n",
      "    train_err, train_loss = epoch(train_loader, resnet, opt)\r\n",
      "\u001b[1m\u001b[31mapps/mlp_resnet.py\u001b[0m:49: in epoch\r\n",
      "    logits = model(X)\r\n",
      "\u001b[1m\u001b[31mpython/needle/nn.py\u001b[0m:78: in __call__\r\n",
      "    \u001b[94mreturn\u001b[39;49;00m \u001b[96mself\u001b[39;49;00m.forward(*args, **kwargs)\r\n",
      "\u001b[1m\u001b[31mpython/needle/nn.py\u001b[0m:134: in forward\r\n",
      "    out = module(out)\r\n",
      "\u001b[1m\u001b[31mpython/needle/nn.py\u001b[0m:78: in __call__\r\n",
      "    \u001b[94mreturn\u001b[39;49;00m \u001b[96mself\u001b[39;49;00m.forward(*args, **kwargs)\r\n",
      "\u001b[1m\u001b[31mpython/needle/nn.py\u001b[0m:134: in forward\r\n",
      "    out = module(out)\r\n",
      "\u001b[1m\u001b[31mpython/needle/nn.py\u001b[0m:78: in __call__\r\n",
      "    \u001b[94mreturn\u001b[39;49;00m \u001b[96mself\u001b[39;49;00m.forward(*args, **kwargs)\r\n",
      "\u001b[1m\u001b[31mpython/needle/nn.py\u001b[0m:219: in forward\r\n",
      "    \u001b[94mreturn\u001b[39;49;00m x + \u001b[96mself\u001b[39;49;00m.fn(x)\r\n",
      "\u001b[1m\u001b[31mpython/needle/nn.py\u001b[0m:78: in __call__\r\n",
      "    \u001b[94mreturn\u001b[39;49;00m \u001b[96mself\u001b[39;49;00m.forward(*args, **kwargs)\r\n",
      "\u001b[1m\u001b[31mpython/needle/nn.py\u001b[0m:134: in forward\r\n",
      "    out = module(out)\r\n",
      "\u001b[1m\u001b[31mpython/needle/nn.py\u001b[0m:78: in __call__\r\n",
      "    \u001b[94mreturn\u001b[39;49;00m \u001b[96mself\u001b[39;49;00m.forward(*args, **kwargs)\r\n",
      "\u001b[1m\u001b[31mpython/needle/nn.py\u001b[0m:172: in forward\r\n",
      "    \u001b[96mself\u001b[39;49;00m.running_mean = (\u001b[94m1\u001b[39;49;00m - \u001b[96mself\u001b[39;49;00m.momentum) * \u001b[96mself\u001b[39;49;00m.running_mean + \u001b[96mself\u001b[39;49;00m.momentum * batch_mean.data\r\n",
      "\u001b[1m\u001b[31mpython/needle/autograd.py\u001b[0m:356: in __add__\r\n",
      "    \u001b[94mreturn\u001b[39;49;00m needle.ops.EWiseAdd()(\u001b[96mself\u001b[39;49;00m, other)\r\n",
      "\u001b[1m\u001b[31mpython/needle/autograd.py\u001b[0m:126: in __call__\r\n",
      "    \u001b[94mreturn\u001b[39;49;00m Tensor.make_from_op(\u001b[96mself\u001b[39;49;00m, args)\r\n",
      "\u001b[1m\u001b[31mpython/needle/autograd.py\u001b[0m:288: in make_from_op\r\n",
      "    \u001b[94mreturn\u001b[39;49;00m tensor.detach()\r\n",
      "\u001b[1m\u001b[31mpython/needle/autograd.py\u001b[0m:320: in detach\r\n",
      "    \u001b[94mreturn\u001b[39;49;00m Tensor.make_const(\u001b[96mself\u001b[39;49;00m.realize_cached_data())\r\n",
      "\u001b[1m\u001b[31mpython/needle/autograd.py\u001b[0m:153: in realize_cached_data\r\n",
      "    \u001b[96mself\u001b[39;49;00m.cached_data = \u001b[96mself\u001b[39;49;00m.op.compute(\r\n",
      "_ _ _ _ _ _ _ _ _ _ _ _ _ _ _ _ _ _ _ _ _ _ _ _ _ _ _ _ _ _ _ _ _ _ _ _ _ _ _ _ \r\n",
      "\r\n",
      "self = <needle.ops.EWiseAdd object at 0x7fd9fef74370>\r\n",
      "a = array([0., 0., 0., 0., 0., 0., 0., 0., 0., 0., 0., 0., 0., 0., 0., 0., 0.,\r\n",
      "       0., 0., 0., 0., 0., 0., 0., 0., 0., ...., 0., 0., 0., 0., 0., 0.,\r\n",
      "       0., 0., 0., 0., 0., 0., 0., 0., 0., 0., 0., 0., 0., 0., 0., 0.],\r\n",
      "      dtype=float32)\r\n",
      "b = array([-0.08584147,  0.08669559,  0.02871129, -0.00298237, -0.0976866 ,\r\n",
      "       -0.04277324,  0.04337924,  0.06114883, ...-0.04318736, -0.06131262,\r\n",
      "       -0.01743546, -0.02360504, -0.00044514, -0.10433345,  0.08925524],\r\n",
      "      dtype=float32)\r\n",
      "\r\n",
      "    \u001b[94mdef\u001b[39;49;00m \u001b[92mcompute\u001b[39;49;00m(\u001b[96mself\u001b[39;49;00m, a: NDArray, b: NDArray):\r\n",
      ">       \u001b[94mreturn\u001b[39;49;00m a + b\r\n",
      "\u001b[1m\u001b[31mE       ValueError: operands could not be broadcast together with shapes (50,) (100,)\u001b[0m\r\n",
      "\r\n",
      "\u001b[1m\u001b[31mpython/needle/ops.py\u001b[0m:17: ValueError\r\n",
      "\u001b[36m\u001b[1m=========================== short test summary info ============================\u001b[0m\r\n",
      "\u001b[31mFAILED\u001b[0m tests/test_nn_and_optim.py::\u001b[1mtest_mlp_residual_block_num_params_1\u001b[0m - AssertionError: \r\n",
      "\u001b[31mFAILED\u001b[0m tests/test_nn_and_optim.py::\u001b[1mtest_mlp_residual_block_num_params_2\u001b[0m - AssertionError: \r\n",
      "\u001b[31mFAILED\u001b[0m tests/test_nn_and_optim.py::\u001b[1mtest_mlp_residual_block_forward_1\u001b[0m - ValueError: operands could not be broadcast together with remapped shapes [...\r\n",
      "\u001b[31mFAILED\u001b[0m tests/test_nn_and_optim.py::\u001b[1mtest_mlp_resnet_num_params_1\u001b[0m - AssertionError: \r\n",
      "\u001b[31mFAILED\u001b[0m tests/test_nn_and_optim.py::\u001b[1mtest_mlp_resnet_num_params_2\u001b[0m - AssertionError: \r\n",
      "\u001b[31mFAILED\u001b[0m tests/test_nn_and_optim.py::\u001b[1mtest_mlp_resnet_forward_1\u001b[0m - ValueError: operands could not be broadcast together with remapped shapes [...\r\n",
      "\u001b[31mFAILED\u001b[0m tests/test_nn_and_optim.py::\u001b[1mtest_mlp_resnet_forward_2\u001b[0m - ValueError: operands could not be broadcast together with shapes (12,) (25,)\r\n",
      "\u001b[31mFAILED\u001b[0m tests/test_nn_and_optim.py::\u001b[1mtest_mlp_train_epoch_1\u001b[0m - ValueError: operands could not be broadcast together with shapes (2,) (5,)\r\n",
      "\u001b[31mFAILED\u001b[0m tests/test_nn_and_optim.py::\u001b[1mtest_mlp_eval_epoch_1\u001b[0m - ValueError: operands could not be broadcast together with remapped shapes [...\r\n",
      "\u001b[31mFAILED\u001b[0m tests/test_nn_and_optim.py::\u001b[1mtest_mlp_train_mnist_1\u001b[0m - ValueError: operands could not be broadcast together with shapes (50,) (100,)\r\n",
      "\u001b[31m====================== \u001b[31m\u001b[1m10 failed\u001b[0m, \u001b[33m80 deselected\u001b[0m\u001b[31m in 10.55s\u001b[0m\u001b[31m ======================\u001b[0m\r\n"
     ]
    }
   ],
   "source": [
    "!python3 -m pytest -v -k \"test_mlp\""
   ]
  },
  {
   "cell_type": "code",
   "execution_count": 48,
   "metadata": {},
   "outputs": [
    {
     "name": "stdout",
     "output_type": "stream",
     "text": [
      "submit\n",
      "\u001b[1m============================= test session starts ==============================\u001b[0m\n",
      "platform darwin -- Python 3.9.13, pytest-7.2.1, pluggy-1.0.0\n",
      "rootdir: /Users/yikaizhu/github/MLSystems/hw2\n",
      "plugins: anyio-3.5.0, django-4.5.2\n",
      "collected 18 items / 17 deselected / 1 selected                                \u001b[0m\n",
      "\n",
      "tests/test_nn_and_optim.py \u001b[31mF\u001b[0m\n",
      "\n",
      "=================================== FAILURES ===================================\n",
      "\u001b[31m\u001b[1m______________________________ submit_mlp_resnet _______________________________\u001b[0m\n",
      "\n",
      "pyfuncitem = <Function submit_mlp_resnet>\n",
      "\n",
      "    \u001b[37m@pytest\u001b[39;49;00m.hookimpl(hookwrapper=\u001b[94mTrue\u001b[39;49;00m)\n",
      "    \u001b[94mdef\u001b[39;49;00m \u001b[92mpytest_pyfunc_call\u001b[39;49;00m(pyfuncitem):\n",
      "        \u001b[90m## prior to test, initialize submission\u001b[39;49;00m\n",
      "        \u001b[94mglobal\u001b[39;49;00m _values, _submission_key, _errors\n",
      "        _values = []\n",
      "        _errors = \u001b[94m0\u001b[39;49;00m\n",
      "        func_name = pyfuncitem.name[\u001b[94m7\u001b[39;49;00m:]\n",
      "        \u001b[94mif\u001b[39;49;00m os.environ[\u001b[33m\"\u001b[39;49;00m\u001b[33mMUGRADE_OP\u001b[39;49;00m\u001b[33m\"\u001b[39;49;00m] == \u001b[33m\"\u001b[39;49;00m\u001b[33msubmit\u001b[39;49;00m\u001b[33m\"\u001b[39;49;00m:\n",
      ">           _submission_key = start_submission(func_name)\n",
      "\n",
      "\u001b[1m\u001b[31m../../../Anaconda3/lib/python3.9/site-packages/mugrade/mugrade.py\u001b[0m:164: \n",
      "_ _ _ _ _ _ _ _ _ _ _ _ _ _ _ _ _ _ _ _ _ _ _ _ _ _ _ _ _ _ _ _ _ _ _ _ _ _ _ _ \n",
      "\n",
      "func_name = 'mlp_resnet'\n",
      "\n",
      "    \u001b[94mdef\u001b[39;49;00m \u001b[92mstart_submission\u001b[39;49;00m(func_name):\n",
      "        \u001b[33m\"\"\" Begin a submisssion to the mugrade server \"\"\"\u001b[39;49;00m\n",
      "    \n",
      "        server_url, protocol = get_server_url_protocol(os.environ[\u001b[33m\"\u001b[39;49;00m\u001b[33mMUGRADE_KEY\u001b[39;49;00m\u001b[33m\"\u001b[39;49;00m])\n",
      "        response = requests.post(server_url + \u001b[33m\"\u001b[39;49;00m\u001b[33msubmission\u001b[39;49;00m\u001b[33m\"\u001b[39;49;00m,\n",
      "                                 params = {\u001b[33m\"\u001b[39;49;00m\u001b[33muser_key\u001b[39;49;00m\u001b[33m\"\u001b[39;49;00m: os.environ[\u001b[33m\"\u001b[39;49;00m\u001b[33mMUGRADE_KEY\u001b[39;49;00m\u001b[33m\"\u001b[39;49;00m],\n",
      "                                           \u001b[33m\"\u001b[39;49;00m\u001b[33mfunc_name\u001b[39;49;00m\u001b[33m\"\u001b[39;49;00m: func_name},\n",
      "                                 verify=\u001b[94mFalse\u001b[39;49;00m)\n",
      "    \n",
      "    \n",
      "        \u001b[94mif\u001b[39;49;00m response.status_code != \u001b[94m200\u001b[39;49;00m:\n",
      "            \u001b[94mraise\u001b[39;49;00m \u001b[96mException\u001b[39;49;00m(\u001b[33mf\u001b[39;49;00m\u001b[33m\"\u001b[39;49;00m\u001b[33mError : \u001b[39;49;00m\u001b[33m{\u001b[39;49;00mresponse.text\u001b[33m}\u001b[39;49;00m\u001b[33m\"\u001b[39;49;00m)\n",
      ">       \u001b[94mreturn\u001b[39;49;00m response.json()[\u001b[33m\"\u001b[39;49;00m\u001b[33msubmission_key\u001b[39;49;00m\u001b[33m\"\u001b[39;49;00m]\n",
      "\u001b[1m\u001b[31mE       KeyError: 'submission_key'\u001b[0m\n",
      "\n",
      "\u001b[1m\u001b[31m../../../Anaconda3/lib/python3.9/site-packages/mugrade/mugrade.py\u001b[0m:103: KeyError\n",
      "\u001b[36m\u001b[1m=========================== short test summary info ============================\u001b[0m\n",
      "\u001b[31mFAILED\u001b[0m tests/test_nn_and_optim.py::\u001b[1msubmit_mlp_resnet\u001b[0m - KeyError: 'submission_key'\n",
      "\u001b[31m======================= \u001b[31m\u001b[1m1 failed\u001b[0m, \u001b[33m17 deselected\u001b[0m\u001b[31m in 2.53s\u001b[0m\u001b[31m =======================\u001b[0m\n"
     ]
    }
   ],
   "source": [
    "!python -m mugrade submit 'YOUR_GRADER_KEY_HERE' -k \"mlp_resnet\""
   ]
  },
  {
   "cell_type": "markdown",
   "metadata": {},
   "source": [
    "We encourage to experiment with the `mlp_resnet.py` training script.\n",
    "You can investigate the effect of using different initializers on the Linear layers,\n",
    "increasing the dropout probability,\n",
    "or adding transforms (via a list to the `transforms=` keyword argument of Dataset)\n",
    "such as random cropping."
   ]
  }
 ],
 "metadata": {
  "kernelspec": {
   "display_name": "Python 3 (ipykernel)",
   "language": "python",
   "name": "python3"
  },
  "language_info": {
   "codemirror_mode": {
    "name": "ipython",
    "version": 3
   },
   "file_extension": ".py",
   "mimetype": "text/x-python",
   "name": "python",
   "nbconvert_exporter": "python",
   "pygments_lexer": "ipython3",
   "version": "3.9.13"
  },
  "vscode": {
   "interpreter": {
    "hash": "31f2aee4e71d21fbe5cf8b01ff0e069b9275f58929596ceb00d14d90e3e16cd6"
   }
  }
 },
 "nbformat": 4,
 "nbformat_minor": 4
}
